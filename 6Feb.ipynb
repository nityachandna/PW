{
  "nbformat": 4,
  "nbformat_minor": 0,
  "metadata": {
    "colab": {
      "provenance": [],
      "authorship_tag": "ABX9TyPkhPvJp2jROTUTRjq14LWH",
      "include_colab_link": true
    },
    "kernelspec": {
      "name": "python3",
      "display_name": "Python 3"
    },
    "language_info": {
      "name": "python"
    }
  },
  "cells": [
    {
      "cell_type": "markdown",
      "metadata": {
        "id": "view-in-github",
        "colab_type": "text"
      },
      "source": [
        "<a href=\"https://colab.research.google.com/github/nityachandna/PW/blob/main/6Feb.ipynb\" target=\"_parent\"><img src=\"https://colab.research.google.com/assets/colab-badge.svg\" alt=\"Open In Colab\"/></a>"
      ]
    },
    {
      "cell_type": "code",
      "source": [
        "# Q1\n",
        "from typing import Any, List, Union\n",
        "import math\n",
        "\n",
        "def flatten(item: Any) -> List[Union[int, float]]:\n",
        "    \"\"\"Recursively flattens a nested structure into a list of numbers.\"\"\"\n",
        "    flat_list = []\n",
        "\n",
        "    if isinstance(item, (list, tuple, set)):\n",
        "        for element in item:\n",
        "            flat_list.extend(flatten(element))\n",
        "    elif isinstance(item, dict):\n",
        "        for key, value in item.items():\n",
        "            flat_list.extend(flatten(key))\n",
        "            flat_list.extend(flatten(value))\n",
        "    elif isinstance(item, (int, float)):\n",
        "        flat_list.append(item)\n",
        "\n",
        "    return flat_list\n",
        "\n",
        "def product_of_numbers(lst: List[Any]) -> float:\n",
        "    \"\"\"Returns the product of all numbers after flattening the list.\"\"\"\n",
        "    flat_list = flatten(lst)\n",
        "    numbers = [x for x in flat_list if isinstance(x, (int, float))]\n",
        "\n",
        "    if not numbers:\n",
        "        return 0  # No numbers to multiply\n",
        "\n",
        "    product = 1\n",
        "    for num in numbers:\n",
        "        product *= num\n",
        "\n",
        "    return product\n",
        "\n",
        "# Test case\n",
        "list1 = [1, 2, 3, 4, [44, 55, 66, True], False, (34, 56, 78, 89, 34),\n",
        "         {1, 2, 3, 3, 2, 1},\n",
        "         {1: 34, \"key2\": [55, 67, 78, 89], 4: (45, 22, 61, 34)},\n",
        "         [56, 'data science'], 'Machine Learning']\n",
        "\n",
        "print(product_of_numbers(list1))"
      ],
      "metadata": {
        "id": "5iibwi9rLuYS"
      },
      "execution_count": null,
      "outputs": []
    },
    {
      "cell_type": "code",
      "source": [
        "# Q2)\n",
        "def create_cipher_map():\n",
        "    \"\"\"Creates a mapping for encryption.\"\"\"\n",
        "    # Create a dictionary to map each letter to its encrypted counterpart\n",
        "    cipher_map = {}\n",
        "    for char in 'abcdefghijklmnopqrstuvwxyz':\n",
        "        if char == 'a':\n",
        "            cipher_map[char] = 'z'\n",
        "        elif char == 'b':\n",
        "            cipher_map[char] = 'y'\n",
        "        elif char == 'c':\n",
        "            cipher_map[char] = 'x'\n",
        "        else:\n",
        "            # For other letters, the mapping will be the reverse of the alphabet\n",
        "            cipher_map[char] = chr(ord('z') - (ord(char) - ord('a')))\n",
        "    return cipher_map\n",
        "\n",
        "def encrypt_message(message: str) -> str:\n",
        "    \"\"\"Encrypts the given message using the specified encryption scheme.\"\"\"\n",
        "    cipher_map = create_cipher_map()\n",
        "    encrypted_message = []\n",
        "\n",
        "    for char in message.lower():\n",
        "        if char in cipher_map:\n",
        "            encrypted_message.append(cipher_map[char])\n",
        "        elif char == ' ':\n",
        "            encrypted_message.append('$')\n",
        "        else:\n",
        "            encrypted_message.append(char)  # Punctuation and other symbols remain unchanged\n",
        "\n",
        "    return ''.join(encrypted_message)\n",
        "\n",
        "# Test input\n",
        "input_sentence = \"I want to become a Data Scientist.\"\n",
        "encrypted_sentence = encrypt_message(input_sentence)\n",
        "print(\"Encrypted message:\", encrypted_sentence)"
      ],
      "metadata": {
        "colab": {
          "base_uri": "https://localhost:8080/"
        },
        "id": "9TZtGNacLaNN",
        "outputId": "9dc81da8-4294-4c56-e767-29c5ac26ce9f"
      },
      "execution_count": 2,
      "outputs": [
        {
          "output_type": "stream",
          "name": "stdout",
          "text": [
            "Encrypted message: r$dzmg$gl$yvxlnv$z$wzgz$hxrvmgrhg.\n"
          ]
        }
      ]
    }
  ]
}