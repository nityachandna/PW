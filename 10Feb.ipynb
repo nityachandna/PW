{
  "nbformat": 4,
  "nbformat_minor": 0,
  "metadata": {
    "colab": {
      "provenance": [],
      "authorship_tag": "ABX9TyMlcLo0tsJjVhZLXmSeQacl",
      "include_colab_link": true
    },
    "kernelspec": {
      "name": "python3",
      "display_name": "Python 3"
    },
    "language_info": {
      "name": "python"
    }
  },
  "cells": [
    {
      "cell_type": "markdown",
      "metadata": {
        "id": "view-in-github",
        "colab_type": "text"
      },
      "source": [
        "<a href=\"https://colab.research.google.com/github/nityachandna/PW/blob/main/10Feb.ipynb\" target=\"_parent\"><img src=\"https://colab.research.google.com/assets/colab-badge.svg\" alt=\"Open In Colab\"/></a>"
      ]
    },
    {
      "cell_type": "code",
      "source": [
        "# Q1)\n",
        "The open() function is used to open a file in Python. The different modes of opening a file are as follows:\n",
        "\n",
        "'r': Read mode. Opens the file for reading. The file pointer is placed at the beginning of the file. This is the default mode.\n",
        "'w': Write mode. Opens the file for writing. If the file already exists, its content is truncated. If the file does not exist, a new file is created.\n",
        "'a': Append mode. Opens the file for appending. The file pointer is placed at the end of the file. If the file does not exist, it creates a new file.\n",
        "'b': Binary mode. Opens the file in binary mode. This mode is used for reading or writing binary files like images or executables. It is used in conjunction with other modes (e.g., 'rb', 'wb', 'ab').\n",
        "'t': Text mode. Opens the file in text mode. This is the default mode and can be used in conjunction with other modes (e.g., 'rt', 'wt'). This mode is used for reading and writing strings.\n",
        "'+': Update mode. Opens the file for both reading and writing. It is used in conjunction with other modes (e.g., 'r+', 'w+', 'a+')."
      ],
      "metadata": {
        "id": "FQ8IoyDLSSEt"
      },
      "execution_count": null,
      "outputs": []
    },
    {
      "cell_type": "code",
      "source": [
        "# Q2)\n",
        "The close() function is used to close an open file. It is important to close a file for several reasons:\n",
        "\n",
        "Resource Management: Closing a file releases the resources associated with it, such as file descriptors. This is important to avoid resource leaks.\n",
        "Data Integrity: Closing a file ensures that all buffered data is properly written to the file. This is important to avoid data loss.\n",
        "Avoiding Errors: Keeping a file open for too long can lead to errors and unexpected behavior, especially if the file is being accessed by other programs or processes."
      ],
      "metadata": {
        "id": "k0MM-c1TSVKe"
      },
      "execution_count": null,
      "outputs": []
    },
    {
      "cell_type": "code",
      "source": [
        "# Q3)\n",
        "# Writing to the file\n",
        "with open('data_scientist.txt', 'w') as file:\n",
        "    file.write('I want to become a Data Scientist')\n",
        "\n",
        "# Reading from the file\n",
        "with open('data_scientist.txt', 'r') as file:\n",
        "    content = file.read()\n",
        "    print(content)"
      ],
      "metadata": {
        "colab": {
          "base_uri": "https://localhost:8080/"
        },
        "id": "Mspe3R8JQn8B",
        "outputId": "3f3fc901-f24f-4fcb-a071-5346c2202ed6"
      },
      "execution_count": 1,
      "outputs": [
        {
          "output_type": "stream",
          "name": "stdout",
          "text": [
            "I want to become a Data Scientist\n"
          ]
        }
      ]
    },
    {
      "cell_type": "code",
      "source": [
        "# Q4)\n",
        "read(): Reads the entire content of the file as a single string.\n",
        "\n",
        "readline(): Reads one line from the file at a time.\n",
        "\n",
        "readlines(): Reads all the lines of the file and returns them as a list of strings."
      ],
      "metadata": {
        "id": "3QS2qPPUSqe_"
      },
      "execution_count": null,
      "outputs": []
    },
    {
      "cell_type": "code",
      "source": [
        "with open('data_scientist.txt', 'r') as file:\n",
        "    content = file.read()\n",
        "    print(content)"
      ],
      "metadata": {
        "colab": {
          "base_uri": "https://localhost:8080/"
        },
        "id": "8ok8dd_8RF3u",
        "outputId": "6b7835d6-fdea-49e9-e8ca-ebb801b8ec7c"
      },
      "execution_count": 9,
      "outputs": [
        {
          "output_type": "stream",
          "name": "stdout",
          "text": [
            "I want to become a Data Scientist\n"
          ]
        }
      ]
    },
    {
      "cell_type": "code",
      "source": [
        "with open('data_scientist.txt', 'r') as file:\n",
        "    line = file.readline()\n",
        "    print(line)"
      ],
      "metadata": {
        "colab": {
          "base_uri": "https://localhost:8080/"
        },
        "id": "1Ax8_QcMRIwr",
        "outputId": "85675964-bfc9-4b7a-a695-9f8a86f76b5b"
      },
      "execution_count": 10,
      "outputs": [
        {
          "output_type": "stream",
          "name": "stdout",
          "text": [
            "I want to become a Data Scientist\n"
          ]
        }
      ]
    },
    {
      "cell_type": "code",
      "source": [
        "with open('data_scientist.txt', 'r') as file:\n",
        "    lines = file.readlines()\n",
        "    print(lines)"
      ],
      "metadata": {
        "colab": {
          "base_uri": "https://localhost:8080/"
        },
        "id": "5cqT6_kZRMxm",
        "outputId": "174d2587-1653-4f7c-f56a-f82fb714bd50"
      },
      "execution_count": 11,
      "outputs": [
        {
          "output_type": "stream",
          "name": "stdout",
          "text": [
            "['I want to become a Data Scientist']\n"
          ]
        }
      ]
    },
    {
      "cell_type": "code",
      "source": [
        "# Q5)\n",
        "The with statement is used with open() to ensure that the file is properly closed after its suite finishes, even if an exception is raised. This is a context management feature in Python.\n",
        "\n",
        "The advantages of using the with statement with open() include:\n",
        "\n",
        "Automatic Resource Management: It automatically handles the opening and closing of the file, reducing the risk of resource leaks.\n",
        "Cleaner Code: It makes the code more readable and concise by eliminating the need for explicit close() calls.\n",
        "Exception Handling: It ensures that the file is closed properly even if an error occurs during file operations."
      ],
      "metadata": {
        "id": "Xpe4Ec8MSy_J"
      },
      "execution_count": null,
      "outputs": []
    },
    {
      "cell_type": "code",
      "source": [
        "# Example:\n",
        "with open('data_scientist.txt', 'r') as file:\n",
        "    content = file.read()\n",
        "    print(content)\n",
        "# No need to explicitly close the file"
      ],
      "metadata": {
        "colab": {
          "base_uri": "https://localhost:8080/"
        },
        "id": "KBx42DwLS0vN",
        "outputId": "1edfa619-f31b-49f4-90e9-bfa1fa41a4a4"
      },
      "execution_count": 4,
      "outputs": [
        {
          "output_type": "stream",
          "name": "stdout",
          "text": [
            "I want to become a Data Scientist\n"
          ]
        }
      ]
    },
    {
      "cell_type": "code",
      "source": [
        "# Q6)\n",
        "write(): Writes a string to the file.\n",
        "\n",
        "writelines(): Writes a list of strings to the file."
      ],
      "metadata": {
        "id": "0D6QEillRzEd"
      },
      "execution_count": null,
      "outputs": []
    },
    {
      "cell_type": "code",
      "source": [
        "with open('example.txt', 'w') as file:\n",
        "    file.write('Hello, World!')"
      ],
      "metadata": {
        "id": "Aybeh9o6S1oY"
      },
      "execution_count": 2,
      "outputs": []
    },
    {
      "cell_type": "code",
      "source": [
        "lines = ['First line\\n', 'Second line\\n', 'Third line\\n']\n",
        "with open('example.txt', 'w') as file:\n",
        "    file.writelines(lines)"
      ],
      "metadata": {
        "id": "4cptzwYoS4AW"
      },
      "execution_count": 3,
      "outputs": []
    }
  ]
}