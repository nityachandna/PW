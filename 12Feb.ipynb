{
  "nbformat": 4,
  "nbformat_minor": 0,
  "metadata": {
    "colab": {
      "provenance": [],
      "authorship_tag": "ABX9TyM6P2wLlIl/n25qpI7qVeQh",
      "include_colab_link": true
    },
    "kernelspec": {
      "name": "python3",
      "display_name": "Python 3"
    },
    "language_info": {
      "name": "python"
    }
  },
  "cells": [
    {
      "cell_type": "markdown",
      "metadata": {
        "id": "view-in-github",
        "colab_type": "text"
      },
      "source": [
        "<a href=\"https://colab.research.google.com/github/nityachandna/PW/blob/main/12Feb.ipynb\" target=\"_parent\"><img src=\"https://colab.research.google.com/assets/colab-badge.svg\" alt=\"Open In Colab\"/></a>"
      ]
    },
    {
      "cell_type": "code",
      "execution_count": null,
      "metadata": {
        "id": "BlR6Oc-mTncL"
      },
      "outputs": [],
      "source": [
        "# Q1)\n",
        "An exception in Python is an event that occurs during the execution of a program and disrupts the normal flow of the program instructions.\n",
        "It is a runtime error that can be handled to prevent the program from crashing.\n",
        "\n",
        "Exceptions:\n",
        "\n",
        "Occur at runtime when the program is syntactically correct but encounters an error during execution.\n",
        "Examples include ZeroDivisionError, FileNotFoundError, IndexError, etc.\n",
        "Can be handled using try, except, else, and finally blocks.\n",
        "\n",
        "Syntax Errors:\n",
        "\n",
        "Occur when the parser detects a syntactically incorrect statement.\n",
        "These errors are detected before the program is run, during the parsing stage.\n",
        "Examples include missing colons, incorrect indentation, and misspelled keywords.\n",
        "Cannot be handled during runtime as the program will not execute until the syntax errors are corrected."
      ]
    },
    {
      "cell_type": "code",
      "source": [
        "# Example of exception:\n",
        "try:\n",
        "    result = 10 / 0\n",
        "except ZeroDivisionError as e:\n",
        "    print(f\"Error occurred: {e}\")"
      ],
      "metadata": {
        "colab": {
          "base_uri": "https://localhost:8080/"
        },
        "id": "HuD-k3VfTtdL",
        "outputId": "020e3683-7cfd-4f87-fa61-1e92d3f46bee"
      },
      "execution_count": 1,
      "outputs": [
        {
          "output_type": "stream",
          "name": "stdout",
          "text": [
            "Error occurred: division by zero\n"
          ]
        }
      ]
    },
    {
      "cell_type": "code",
      "source": [
        "# Example of syntax error:\n",
        "\n",
        "# Missing colon at the end of the if statement\n",
        "if True\n",
        "    print(\"This will cause a syntax error\")"
      ],
      "metadata": {
        "colab": {
          "base_uri": "https://localhost:8080/",
          "height": 106
        },
        "id": "mdWk0dGzTxwU",
        "outputId": "6633e07d-fd4e-4f2a-8e1c-6645f9020f92"
      },
      "execution_count": 2,
      "outputs": [
        {
          "output_type": "error",
          "ename": "SyntaxError",
          "evalue": "expected ':' (<ipython-input-2-f25d4fca6eaf>, line 2)",
          "traceback": [
            "\u001b[0;36m  File \u001b[0;32m\"<ipython-input-2-f25d4fca6eaf>\"\u001b[0;36m, line \u001b[0;32m2\u001b[0m\n\u001b[0;31m    if True\u001b[0m\n\u001b[0m           ^\u001b[0m\n\u001b[0;31mSyntaxError\u001b[0m\u001b[0;31m:\u001b[0m expected ':'\n"
          ]
        }
      ]
    },
    {
      "cell_type": "code",
      "source": [
        "# Q2)\n",
        "When an exception is not handled, the program terminates abruptly, and an error message is displayed.\n",
        "This message includes the type of exception, a description, and a traceback indicating where the error occurred."
      ],
      "metadata": {
        "id": "EWBmBFVDT0ay"
      },
      "execution_count": null,
      "outputs": []
    },
    {
      "cell_type": "code",
      "source": [
        "# Example of an unhandled exception:\n",
        "def divide(x, y):\n",
        "    return x / y\n",
        "\n",
        "result = divide(10, 0)\n",
        "print(result)"
      ],
      "metadata": {
        "colab": {
          "base_uri": "https://localhost:8080/",
          "height": 315
        },
        "id": "iRaWD3vuT9dP",
        "outputId": "f9f7849a-7d66-4551-8a51-b3250df8575d"
      },
      "execution_count": 3,
      "outputs": [
        {
          "output_type": "error",
          "ename": "ZeroDivisionError",
          "evalue": "division by zero",
          "traceback": [
            "\u001b[0;31m---------------------------------------------------------------------------\u001b[0m",
            "\u001b[0;31mZeroDivisionError\u001b[0m                         Traceback (most recent call last)",
            "\u001b[0;32m<ipython-input-3-59fd80fbee53>\u001b[0m in \u001b[0;36m<cell line: 5>\u001b[0;34m()\u001b[0m\n\u001b[1;32m      3\u001b[0m     \u001b[0;32mreturn\u001b[0m \u001b[0mx\u001b[0m \u001b[0;34m/\u001b[0m \u001b[0my\u001b[0m\u001b[0;34m\u001b[0m\u001b[0;34m\u001b[0m\u001b[0m\n\u001b[1;32m      4\u001b[0m \u001b[0;34m\u001b[0m\u001b[0m\n\u001b[0;32m----> 5\u001b[0;31m \u001b[0mresult\u001b[0m \u001b[0;34m=\u001b[0m \u001b[0mdivide\u001b[0m\u001b[0;34m(\u001b[0m\u001b[0;36m10\u001b[0m\u001b[0;34m,\u001b[0m \u001b[0;36m0\u001b[0m\u001b[0;34m)\u001b[0m\u001b[0;34m\u001b[0m\u001b[0;34m\u001b[0m\u001b[0m\n\u001b[0m\u001b[1;32m      6\u001b[0m \u001b[0mprint\u001b[0m\u001b[0;34m(\u001b[0m\u001b[0mresult\u001b[0m\u001b[0;34m)\u001b[0m\u001b[0;34m\u001b[0m\u001b[0;34m\u001b[0m\u001b[0m\n",
            "\u001b[0;32m<ipython-input-3-59fd80fbee53>\u001b[0m in \u001b[0;36mdivide\u001b[0;34m(x, y)\u001b[0m\n\u001b[1;32m      1\u001b[0m \u001b[0;31m# Example of an unhandled exception:\u001b[0m\u001b[0;34m\u001b[0m\u001b[0;34m\u001b[0m\u001b[0m\n\u001b[1;32m      2\u001b[0m \u001b[0;32mdef\u001b[0m \u001b[0mdivide\u001b[0m\u001b[0;34m(\u001b[0m\u001b[0mx\u001b[0m\u001b[0;34m,\u001b[0m \u001b[0my\u001b[0m\u001b[0;34m)\u001b[0m\u001b[0;34m:\u001b[0m\u001b[0;34m\u001b[0m\u001b[0;34m\u001b[0m\u001b[0m\n\u001b[0;32m----> 3\u001b[0;31m     \u001b[0;32mreturn\u001b[0m \u001b[0mx\u001b[0m \u001b[0;34m/\u001b[0m \u001b[0my\u001b[0m\u001b[0;34m\u001b[0m\u001b[0;34m\u001b[0m\u001b[0m\n\u001b[0m\u001b[1;32m      4\u001b[0m \u001b[0;34m\u001b[0m\u001b[0m\n\u001b[1;32m      5\u001b[0m \u001b[0mresult\u001b[0m \u001b[0;34m=\u001b[0m \u001b[0mdivide\u001b[0m\u001b[0;34m(\u001b[0m\u001b[0;36m10\u001b[0m\u001b[0;34m,\u001b[0m \u001b[0;36m0\u001b[0m\u001b[0;34m)\u001b[0m\u001b[0;34m\u001b[0m\u001b[0;34m\u001b[0m\u001b[0m\n",
            "\u001b[0;31mZeroDivisionError\u001b[0m: division by zero"
          ]
        }
      ]
    },
    {
      "cell_type": "code",
      "source": [
        "# Q3)\n",
        "The following keywords are used:\n",
        "The try block lets you test a block of code for errors, while the except block lets you handle the error.\n",
        "The else block lets you execute code when there is no exception. The finally block lets you execute code, regardless of whether an exception occurs or not."
      ],
      "metadata": {
        "id": "5Be7YQR_T_5N"
      },
      "execution_count": null,
      "outputs": []
    },
    {
      "cell_type": "code",
      "source": [
        "# Example:\n",
        "try:\n",
        "    result = 10 / 0\n",
        "except ZeroDivisionError as e:\n",
        "    print(f\"Error occurred: {e}\")\n",
        "else:\n",
        "    print(f\"Result is: {result}\")\n",
        "finally:\n",
        "    print(\"This block is always executed\")"
      ],
      "metadata": {
        "colab": {
          "base_uri": "https://localhost:8080/"
        },
        "id": "ziR5WP_sUyjR",
        "outputId": "45e3aafb-e6ed-413c-eeb6-92241253408b"
      },
      "execution_count": 4,
      "outputs": [
        {
          "output_type": "stream",
          "name": "stdout",
          "text": [
            "Error occurred: division by zero\n",
            "This block is always executed\n"
          ]
        }
      ]
    },
    {
      "cell_type": "code",
      "source": [
        "# Q4)\n",
        "try: Defines a block of code that you want to test for errors.\n",
        "else: Defines a block of code that will execute if no errors occur in the try block.\n",
        "finally: Defines a block of code that will always execute, regardless of whether an error occurred or not.\n",
        "raise: Manually trigger an exception. Used to signal that an error has occurred and to specify the type of exception."
      ],
      "metadata": {
        "id": "bM8wvjUdU0n7"
      },
      "execution_count": null,
      "outputs": []
    },
    {
      "cell_type": "code",
      "source": [
        "# Example:\n",
        "def validate_age(age):\n",
        "    if age < 0:\n",
        "        raise ValueError(\"Age cannot be negative\")\n",
        "    elif age < 18:\n",
        "        raise ValueError(\"Age must be at least 18\")\n",
        "    else:\n",
        "        print(f\"Age {age} is valid\")\n",
        "\n",
        "# Testing the function\n",
        "try:\n",
        "    validate_age(-5)\n",
        "except ValueError as e:\n",
        "    print(f\"Error occurred: {e}\")\n",
        "\n",
        "try:\n",
        "    validate_age(15)\n",
        "except ValueError as e:\n",
        "    print(f\"Error occurred: {e}\")\n",
        "\n",
        "validate_age(25)"
      ],
      "metadata": {
        "colab": {
          "base_uri": "https://localhost:8080/"
        },
        "id": "hj9kAsu7VTWx",
        "outputId": "c0d2c53f-d7e3-4bb9-8200-9defacb92da1"
      },
      "execution_count": 5,
      "outputs": [
        {
          "output_type": "stream",
          "name": "stdout",
          "text": [
            "Error occurred: Age cannot be negative\n",
            "Error occurred: Age must be at least 18\n",
            "Age 25 is valid\n"
          ]
        }
      ]
    },
    {
      "cell_type": "code",
      "source": [
        "# Q5)\n",
        "Custom exceptions in Python are user-defined error classes that inherit from the built-in Exception class.\n",
        "They allow you to create more specific and meaningful error types for your application, making it easier to handle errors in a way that fits your particular needs."
      ],
      "metadata": {
        "id": "EocVpgsXVV00"
      },
      "execution_count": null,
      "outputs": []
    },
    {
      "cell_type": "code",
      "source": [
        "# Define custom exceptions\n",
        "class NegativeValueError(Exception):\n",
        "    def __init__(self, message=\"Value cannot be negative\"):\n",
        "        self.message = message\n",
        "        super().__init__(self.message)\n",
        "\n",
        "class TooHighValueError(Exception):\n",
        "    def __init__(self, message=\"Value is too high\"):\n",
        "        self.message = message\n",
        "        super().__init__(self.message)\n",
        "\n",
        "# Function using custom exceptions\n",
        "def process_value(value):\n",
        "    if value < 0:\n",
        "        raise NegativeValueError(\"Received a negative value: {}\".format(value))\n",
        "    elif value > 100:\n",
        "        raise TooHighValueError(\"Received a value too high: {}\".format(value))\n",
        "    else:\n",
        "        print(f\"Value {value} is processed successfully\")\n",
        "\n",
        "try:\n",
        "    process_value(-10)\n",
        "except NegativeValueError as e:\n",
        "    print(f\"Error: {e}\")\n",
        "\n",
        "try:\n",
        "    process_value(150)\n",
        "except TooHighValueError as e:\n",
        "    print(f\"Error: {e}\")\n",
        "\n",
        "process_value(50)"
      ],
      "metadata": {
        "colab": {
          "base_uri": "https://localhost:8080/"
        },
        "id": "1CMxWBFJVq26",
        "outputId": "f74efc5a-bf39-440b-d94b-51e4cd64fde0"
      },
      "execution_count": 6,
      "outputs": [
        {
          "output_type": "stream",
          "name": "stdout",
          "text": [
            "Error: Received a negative value: -10\n",
            "Error: Received a value too high: 150\n",
            "Value 50 is processed successfully\n"
          ]
        }
      ]
    },
    {
      "cell_type": "code",
      "source": [
        "# Q6)\n",
        "# Define the custom exception class\n",
        "class InvalidAgeError(Exception):\n",
        "    def __init__(self, message=\"Invalid age provided\"):\n",
        "        self.message = message\n",
        "        super().__init__(self.message)\n",
        "\n",
        "# Function using the custom exception\n",
        "def check_age(age):\n",
        "    if age < 0:\n",
        "        raise InvalidAgeError(\"Age cannot be negative.\")\n",
        "    elif age < 18:\n",
        "        raise InvalidAgeError(\"Age must be 18 or older.\")\n",
        "    else:\n",
        "        print(f\"Age {age} is valid.\")\n",
        "\n",
        "try:\n",
        "    check_age(-5)\n",
        "except InvalidAgeError as e:\n",
        "    print(f\"Error: {e}\")\n",
        "\n",
        "try:\n",
        "    check_age(15)\n",
        "except InvalidAgeError as e:\n",
        "    print(f\"Error: {e}\")\n",
        "\n",
        "check_age(25)"
      ],
      "metadata": {
        "colab": {
          "base_uri": "https://localhost:8080/"
        },
        "id": "GddzX8iHVtDp",
        "outputId": "44443280-46ba-4964-e600-877375f62a93"
      },
      "execution_count": 7,
      "outputs": [
        {
          "output_type": "stream",
          "name": "stdout",
          "text": [
            "Error: Age cannot be negative.\n",
            "Error: Age must be 18 or older.\n",
            "Age 25 is valid.\n"
          ]
        }
      ]
    }
  ]
}