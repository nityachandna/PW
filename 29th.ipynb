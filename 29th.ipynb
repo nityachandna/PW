{
  "nbformat": 4,
  "nbformat_minor": 0,
  "metadata": {
    "colab": {
      "provenance": [],
      "authorship_tag": "ABX9TyOIprycA5hPxMmlQbDawyuc",
      "include_colab_link": true
    },
    "kernelspec": {
      "name": "python3",
      "display_name": "Python 3"
    },
    "language_info": {
      "name": "python"
    }
  },
  "cells": [
    {
      "cell_type": "markdown",
      "metadata": {
        "id": "view-in-github",
        "colab_type": "text"
      },
      "source": [
        "<a href=\"https://colab.research.google.com/github/nityachandna/PW/blob/main/29th.ipynb\" target=\"_parent\"><img src=\"https://colab.research.google.com/assets/colab-badge.svg\" alt=\"Open In Colab\"/></a>"
      ]
    },
    {
      "cell_type": "code",
      "execution_count": null,
      "metadata": {
        "id": "ju3n8IXYbx4D"
      },
      "outputs": [],
      "source": [
        "1. Who developed Python Programming Language?\n",
        "   - Guido van Rossum\n",
        "\n",
        "2. Which type of Programming does Python support?\n",
        "   - Procedural, Object-Oriented, and Functional Programming\n",
        "\n",
        "3. Is Python case sensitive when dealing with identifiers?\n",
        "   - Yes\n",
        "\n",
        "4. What is the correct extension of the Python file?\n",
        "   - .py\n",
        "\n",
        "5. Is Python code compiled or interpreted?\n",
        "   - Interpreted\n",
        "\n",
        "6. Name a few blocks of code used to define in Python language?\n",
        "   - Functions, Classes, Loops, Conditional Statements\n",
        "\n",
        "7. State a character used to give single-line comments in Python?\n",
        "   - #\n",
        "\n",
        "8. Mention functions which can help us to find the version of Python that we are currently working on?\n",
        "   - sys.version, platform.python_version()\n",
        "\n",
        "9. Python supports the creation of anonymous functions at runtime, using a construct called\n",
        "   - lambda\n",
        "\n",
        "10. What does pip stand for in Python?\n",
        "    - Pip Installs Packages\n",
        "\n",
        "11. Mention a few built-in functions in Python?\n",
        "    - print(), len(), type(), range()\n",
        "\n",
        "12. What is the maximum possible length of an identifier in Python?\n",
        "    - No explicit limit (practical limit is very large)\n",
        "\n",
        "13. What are the benefits of using Python?\n",
        "    - Easy syntax, extensive libraries, versatility, readability\n",
        "\n",
        "14. How is memory managed in Python?\n",
        "    - Automatic garbage collection and reference counting\n",
        "\n",
        "15. How to install Python on Windows and set path variables?\n",
        "    - Download Python from python.org, run installer, check \"Add Python to PATH\"\n",
        "\n",
        "16. Is indentation required in Python?\n",
        "    - Yes"
      ]
    }
  ]
}