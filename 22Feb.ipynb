{
  "nbformat": 4,
  "nbformat_minor": 0,
  "metadata": {
    "colab": {
      "provenance": [],
      "authorship_tag": "ABX9TyMZmRfa7G6u1tATaBXx2NGq",
      "include_colab_link": true
    },
    "kernelspec": {
      "name": "python3",
      "display_name": "Python 3"
    },
    "language_info": {
      "name": "python"
    }
  },
  "cells": [
    {
      "cell_type": "markdown",
      "metadata": {
        "id": "view-in-github",
        "colab_type": "text"
      },
      "source": [
        "<a href=\"https://colab.research.google.com/github/nityachandna/PW/blob/main/22Feb.ipynb\" target=\"_parent\"><img src=\"https://colab.research.google.com/assets/colab-badge.svg\" alt=\"Open In Colab\"/></a>"
      ]
    },
    {
      "cell_type": "code",
      "execution_count": 1,
      "metadata": {
        "colab": {
          "base_uri": "https://localhost:8080/"
        },
        "id": "NhhCZpKOeuqF",
        "outputId": "cffe51a8-dd9c-4183-8cb5-e99271208755"
      },
      "outputs": [
        {
          "output_type": "stream",
          "name": "stdout",
          "text": [
            "0     4\n",
            "1     8\n",
            "2    15\n",
            "3    16\n",
            "4    23\n",
            "5    42\n",
            "dtype: int64\n"
          ]
        }
      ],
      "source": [
        "# Q1\n",
        "import pandas as pd\n",
        "\n",
        "# Create a Pandas Series with the specified data\n",
        "data = [4, 8, 15, 16, 23, 42]\n",
        "series = pd.Series(data)\n",
        "\n",
        "# Print the Series\n",
        "print(series)"
      ]
    },
    {
      "cell_type": "code",
      "source": [
        "# Q2\n",
        "import pandas as pd\n",
        "\n",
        "# Create a list with 10 elements\n",
        "data_list = [1, 2, 3, 4, 5, 6, 7, 8, 9, 10]\n",
        "\n",
        "# Create a Pandas Series from the list\n",
        "series_from_list = pd.Series(data_list)\n",
        "\n",
        "# Print the Series\n",
        "print(series_from_list)"
      ],
      "metadata": {
        "colab": {
          "base_uri": "https://localhost:8080/"
        },
        "id": "FD0ug7asewlg",
        "outputId": "2593d3ca-101e-4d25-e6eb-638125161217"
      },
      "execution_count": 2,
      "outputs": [
        {
          "output_type": "stream",
          "name": "stdout",
          "text": [
            "0     1\n",
            "1     2\n",
            "2     3\n",
            "3     4\n",
            "4     5\n",
            "5     6\n",
            "6     7\n",
            "7     8\n",
            "8     9\n",
            "9    10\n",
            "dtype: int64\n"
          ]
        }
      ]
    },
    {
      "cell_type": "code",
      "source": [
        "# Q3\n",
        "import pandas as pd\n",
        "\n",
        "# Create a DataFrame with some sample data\n",
        "data = {\n",
        "    'Name': ['Alice', 'Bob', 'Claire'],\n",
        "    'Age': [25, 30, 27]\n",
        "}\n",
        "\n",
        "df = pd.DataFrame(data)\n",
        "\n",
        "# Print the DataFrame\n",
        "print(df)"
      ],
      "metadata": {
        "colab": {
          "base_uri": "https://localhost:8080/"
        },
        "id": "eaQuXHsie1dl",
        "outputId": "82cc0a64-5528-436d-9035-542b0e561f68"
      },
      "execution_count": 3,
      "outputs": [
        {
          "output_type": "stream",
          "name": "stdout",
          "text": [
            "     Name  Age\n",
            "0   Alice   25\n",
            "1     Bob   30\n",
            "2  Claire   27\n"
          ]
        }
      ]
    },
    {
      "cell_type": "code",
      "source": [
        "# Q4\n",
        "DataFrame:\n",
        "A DataFrame is a two-dimensional, size-mutable, and potentially heterogeneous tabular data structure with labeled axes (rows and columns).\n",
        "It can be thought of as a table or a spreadsheet with rows and columns.\n",
        "\n",
        "Series:\n",
        "A Series is a one-dimensional, labeled array capable of holding any data type (integers, strings, floating-point numbers, etc.).\n",
        "It is essentially a single column of a DataFrame."
      ],
      "metadata": {
        "id": "f7sPI7Jje7ZQ"
      },
      "execution_count": null,
      "outputs": []
    },
    {
      "cell_type": "code",
      "source": [
        "# EXAMPLE:\n",
        "import pandas as pd\n",
        "\n",
        "# Create a Series\n",
        "s = pd.Series([1, 2, 3], index=['a', 'b', 'c'])\n",
        "\n",
        "# Create a DataFrame\n",
        "df = pd.DataFrame({\n",
        "    'A': [1, 2, 3],\n",
        "    'B': [4, 5, 6]\n",
        "})\n",
        "\n",
        "print(\"Series:\")\n",
        "print(s)\n",
        "\n",
        "print(\"\\nDataFrame:\")\n",
        "print(df)"
      ],
      "metadata": {
        "colab": {
          "base_uri": "https://localhost:8080/"
        },
        "id": "irdgfYzfe_pX",
        "outputId": "9c7420b3-00f8-44e0-c68a-e03f982c9a07"
      },
      "execution_count": 4,
      "outputs": [
        {
          "output_type": "stream",
          "name": "stdout",
          "text": [
            "Series:\n",
            "a    1\n",
            "b    2\n",
            "c    3\n",
            "dtype: int64\n",
            "\n",
            "DataFrame:\n",
            "   A  B\n",
            "0  1  4\n",
            "1  2  5\n",
            "2  3  6\n"
          ]
        }
      ]
    },
    {
      "cell_type": "code",
      "source": [
        "# Q5\n",
        "head(): Returns the first n rows of the DataFrame.\n",
        "tail(): Returns the last n rows of the DataFrame.\n",
        "describe(): Provides summary statistics of numeric columns.\n",
        "groupby(): Groups data by certain columns and applies aggregation functions.\n",
        "drop(): Removes specified labels from rows or columns."
      ],
      "metadata": {
        "id": "W7n81-_ffLYN"
      },
      "execution_count": null,
      "outputs": []
    },
    {
      "cell_type": "code",
      "source": [
        "# Q6\n",
        "Mutable means that the object can be changed after it is created.\n",
        "\n",
        "Series: Mutable. You can modify the values or index.\n",
        "DataFrame: Mutable. You can add, remove, or modify columns and rows.\n",
        "Panel: Mutable. (Note: Panels are deprecated as of Pandas 1.0.0 and were generally used for 3D data.)"
      ],
      "metadata": {
        "id": "pgzDnq3wfnvG"
      },
      "execution_count": null,
      "outputs": []
    },
    {
      "cell_type": "code",
      "source": [
        "# Q7\n",
        "import pandas as pd\n",
        "\n",
        "# Create multiple Series\n",
        "names = pd.Series(['Alice', 'Bob', 'Claire'], name='Name')\n",
        "ages = pd.Series([25, 30, 27], name='Age')\n",
        "\n",
        "# Create a DataFrame using these Series\n",
        "df = pd.concat([names, ages], axis=1)\n",
        "\n",
        "# Print the DataFrame\n",
        "print(df)"
      ],
      "metadata": {
        "colab": {
          "base_uri": "https://localhost:8080/"
        },
        "id": "lnIzaMg4fsZ0",
        "outputId": "5e76e4cc-10ef-4b83-d9d9-865e6dd1e799"
      },
      "execution_count": 5,
      "outputs": [
        {
          "output_type": "stream",
          "name": "stdout",
          "text": [
            "     Name  Age\n",
            "0   Alice   25\n",
            "1     Bob   30\n",
            "2  Claire   27\n"
          ]
        }
      ]
    }
  ]
}