{
  "nbformat": 4,
  "nbformat_minor": 0,
  "metadata": {
    "colab": {
      "provenance": [],
      "authorship_tag": "ABX9TyPPFNUhTimLswepd9dNhMjE",
      "include_colab_link": true
    },
    "kernelspec": {
      "name": "python3",
      "display_name": "Python 3"
    },
    "language_info": {
      "name": "python"
    }
  },
  "cells": [
    {
      "cell_type": "markdown",
      "metadata": {
        "id": "view-in-github",
        "colab_type": "text"
      },
      "source": [
        "<a href=\"https://colab.research.google.com/github/nityachandna/PW/blob/main/19Feb.ipynb\" target=\"_parent\"><img src=\"https://colab.research.google.com/assets/colab-badge.svg\" alt=\"Open In Colab\"/></a>"
      ]
    },
    {
      "cell_type": "code",
      "execution_count": null,
      "metadata": {
        "id": "NbC3IFY6ZBrL"
      },
      "outputs": [],
      "source": [
        "# Q1)\n",
        "Flask is a lightweight and flexible web framework for Python. It is designed to be simple and easy to use while providing the necessary tools and features to build web applications. Flask is categorized as a microframework because it does not include built-in features for tasks such as form validation, database abstraction, or authentication; instead, it relies on extensions to add these functionalities.\n",
        "\n",
        "Advantages of Flask Framework:\n",
        "Simplicity and Minimalism\n",
        "Flexibility: Flask provides a flexible framework that allows developers to structure their applications as they see fit. It does not impose a specific way to organize code, giving developers the freedom to choose their own approach.\n",
        "Extensible: Although Flask comes with a minimal set of features, it supports a wide range of extensions that can be easily integrated. These extensions can handle tasks such as database interactions, form validation, and authentication.\n",
        "Built-in Development Server: Flask includes a built-in development server that allows developers to quickly test and debug their applications.\n",
        "Jinja2 Templating: Flask uses the Jinja2 templating engine, which allows for the easy rendering of HTML templates and dynamic content.\n",
        "RESTful Request Dispatching: Flask simplifies the process of creating RESTful APIs by providing simple routing mechanisms.\n",
        "Documentation and Community: Flask has extensive documentation and a supportive community, making it easier to find resources and get help."
      ]
    },
    {
      "cell_type": "code",
      "source": [
        "# Q2)\n",
        "# pip install flask\n",
        "\n",
        "from flask import Flask\n",
        "\n",
        "app = Flask(__name__)\n",
        "\n",
        "@app.route('/')\n",
        "def hello_world():\n",
        "    return 'Hello World!!'\n",
        "\n",
        "if __name__ == '__main__':\n",
        "    app.run(debug=True)\n",
        "\n",
        "# python app.py"
      ],
      "metadata": {
        "id": "TNbcR02YZPyr"
      },
      "execution_count": null,
      "outputs": []
    },
    {
      "cell_type": "code",
      "source": [
        "# Q3)\n",
        "App Routing in Flask refers to the mechanism by which URL paths are mapped to specific functions (or view functions) within the application. Routes define how different URLs should be handled by the Flask application.\n",
        "\n",
        "Why We Use App Routes:\n",
        "Define URL Endpoints: Routes are used to define the endpoints of a web application. Each URL path can be associated with a specific function that will generate the response for that path.\n",
        "Handle Requests: Routes allow you to handle different types of HTTP requests (GET, POST, etc.) for various parts of your application. This enables you to process user inputs, display dynamic content, and interact with databases.\n",
        "Organize Code: Routes help in organizing code by separating different functionalities into different functions. This modularity makes the codebase easier to manage and maintain.\n",
        "Dynamic URL Handling: Flask routing supports dynamic URL handling with parameters, allowing you to create more complex and dynamic web applications.\n",
        "Flexibility: Routes can be easily customized and extended to add new features or modify existing ones without affecting the entire application."
      ],
      "metadata": {
        "id": "7igVbxO1ZlUG"
      },
      "execution_count": null,
      "outputs": []
    },
    {
      "cell_type": "code",
      "source": [
        "# Q4)\n",
        "from flask import Flask\n",
        "\n",
        "app = Flask(__name__)\n",
        "\n",
        "@app.route('/welcome')\n",
        "def welcome():\n",
        "    return 'Welcome to ABC Corporation'\n",
        "\n",
        "@app.route('/')\n",
        "def home():\n",
        "    return '''\n",
        "    <h1>Company Details</h1>\n",
        "    <p><strong>Company Name:</strong> ABC Corporation</p>\n",
        "    <p><strong>Location:</strong> India</p>\n",
        "    <p><strong>Contact Detail:</strong> 999-999-9999</p>\n",
        "    '''\n",
        "\n",
        "if __name__ == '__main__':\n",
        "    app.run(debug=True)"
      ],
      "metadata": {
        "id": "KLiy_DWtZscL"
      },
      "execution_count": null,
      "outputs": []
    },
    {
      "cell_type": "code",
      "source": [
        "# Q5)\n",
        "In Flask, the url_for() function is used for URL building. It generates URLs for the specified endpoint, which can be useful for creating links dynamically and avoiding hardcoding URLs.\n",
        "\n",
        "from flask import Flask, url_for, render_template_string\n",
        "\n",
        "app = Flask(__name__)\n",
        "\n",
        "@app.route('/')\n",
        "def home():\n",
        "    return 'Home Page'\n",
        "\n",
        "@app.route('/welcome')\n",
        "def welcome():\n",
        "    # Use url_for() to generate URL for the home route\n",
        "    home_url = url_for('home')\n",
        "    return f'Welcome to the Welcome Page! <a href=\"{home_url}\">Go to Home Page</a>'\n",
        "\n",
        "if __name__ == '__main__':\n",
        "    app.run(debug=True)"
      ],
      "metadata": {
        "id": "B12H75b8Z6Kp"
      },
      "execution_count": null,
      "outputs": []
    }
  ]
}