{
  "nbformat": 4,
  "nbformat_minor": 0,
  "metadata": {
    "colab": {
      "provenance": [],
      "authorship_tag": "ABX9TyN9XKBcHGzFDTplapshSkTH",
      "include_colab_link": true
    },
    "kernelspec": {
      "name": "python3",
      "display_name": "Python 3"
    },
    "language_info": {
      "name": "python"
    }
  },
  "cells": [
    {
      "cell_type": "markdown",
      "metadata": {
        "id": "view-in-github",
        "colab_type": "text"
      },
      "source": [
        "<a href=\"https://colab.research.google.com/github/nityachandna/PW/blob/main/17Feb.ipynb\" target=\"_parent\"><img src=\"https://colab.research.google.com/assets/colab-badge.svg\" alt=\"Open In Colab\"/></a>"
      ]
    },
    {
      "cell_type": "code",
      "execution_count": null,
      "metadata": {
        "id": "2psQpmqXT9xK"
      },
      "outputs": [],
      "source": [
        "# Q1\n",
        "MongoDB is a popular, open-source, NoSQL database that stores data in flexible, JSON-like documents called BSON (Binary JSON). Unlike traditional SQL databases, which use structured tables with fixed schemas, MongoDB uses a schema-less format that allows for dynamic and complex data structures.\n",
        "\n",
        "Non-Relational Databases:\n",
        "Non-relational databases, also known as NoSQL databases, are designed to handle unstructured or semi-structured data. They provide flexible data models, including key-value stores, document stores, column-family stores, and graph databases. Unlike relational databases, non-relational databases do not require a fixed schema, allowing them to scale horizontally and handle large volumes of diverse data.\n",
        "\n",
        "When to Use MongoDB Over SQL Databases:\n",
        "Schema Flexibility: When your data structure is dynamic or changes frequently, MongoDB’s schema-less nature allows you to store diverse and evolving data types without predefined schemas.\n",
        "Scalability: For applications that require high write and read throughput or need to handle large volumes of data, MongoDB offers horizontal scaling by sharding data across multiple servers.\n",
        "Rapid Development: In scenarios where quick iterations and changes are common, MongoDB allows for more agile development due to its flexible schema.\n",
        "Document-Oriented Data: When the application’s data is best represented as hierarchical or nested documents rather than flat tables, MongoDB’s document model is more natural and efficient."
      ]
    },
    {
      "cell_type": "code",
      "source": [
        "# Q2\n",
        "Document-Oriented Storage: Data is stored in BSON format, which allows for nested and hierarchical data structures.\n",
        "Flexible Schema: Collections do not enforce a fixed schema, enabling different documents within the same collection to have different structures.\n",
        "Scalability: Supports horizontal scaling through sharding, distributing data across multiple servers.\n",
        "Indexing: Provides a variety of indexing options to improve query performance, including single field, compound, and geospatial indexes.\n",
        "Replication: Offers replica sets for high availability and data redundancy. Replica sets are groups of MongoDB servers that maintain the same data set.\n",
        "Aggregation Framework: Includes powerful aggregation tools to process and analyze data, such as filtering, grouping, and sorting.\n",
        "High Performance: Designed for high performance with efficient data retrieval and storage operations.\n",
        "Support for Geospatial Queries: Allows querying and indexing of geospatial data for location-based applications."
      ],
      "metadata": {
        "id": "MnaTo26MUKj_"
      },
      "execution_count": null,
      "outputs": []
    },
    {
      "cell_type": "code",
      "source": [
        "# Q3\n",
        "from pymongo import MongoClient\n",
        "\n",
        "# Connect to MongoDB server\n",
        "client = MongoClient('mongodb://localhost:27017/')\n",
        "\n",
        "# Create a new database\n",
        "db = client['my_database']\n",
        "\n",
        "# Create a new collection\n",
        "collection = db['my_collection']\n",
        "\n",
        "print(\"Database and collection created successfully.\")"
      ],
      "metadata": {
        "id": "bw8J1uQ8U7sG"
      },
      "execution_count": null,
      "outputs": []
    },
    {
      "cell_type": "code",
      "source": [
        "# Q4\n",
        "from pymongo import MongoClient\n",
        "\n",
        "# Connect to MongoDB server\n",
        "client = MongoClient('mongodb://localhost:27017/')\n",
        "db = client['my_database']\n",
        "collection = db['my_collection']\n",
        "\n",
        "# Insert one record\n",
        "collection.insert_one({\"name\": \"Alice\", \"age\": 25, \"city\": \"New York\"})\n",
        "\n",
        "# Insert many records\n",
        "records = [\n",
        "    {\"name\": \"Bob\", \"age\": 30, \"city\": \"Chicago\"},\n",
        "    {\"name\": \"Carol\", \"age\": 27, \"city\": \"San Francisco\"}\n",
        "]\n",
        "collection.insert_many(records)\n",
        "\n",
        "# Retrieve and print one record\n",
        "one_record = collection.find_one({\"name\": \"Alice\"})\n",
        "print(\"One Record:\", one_record)\n",
        "\n",
        "# Retrieve and print all records\n",
        "all_records = collection.find()\n",
        "for record in all_records:\n",
        "    print(\"Record:\", record)"
      ],
      "metadata": {
        "id": "NJTl1UtIU0Yz"
      },
      "execution_count": null,
      "outputs": []
    },
    {
      "cell_type": "code",
      "source": [
        "# Q5\n",
        "The find() method is used to retrieve multiple documents from a MongoDB collection based on query criteria. It returns a cursor that can be iterated over to access the matching documents.\n",
        "\n",
        "from pymongo import MongoClient\n",
        "\n",
        "# Connect to MongoDB server\n",
        "client = MongoClient('mongodb://localhost:27017/')\n",
        "db = client['my_database']\n",
        "collection = db['my_collection']\n",
        "\n",
        "# Query to find all documents where age is greater than 25\n",
        "query = {\"age\": {\"$gt\": 25}}\n",
        "results = collection.find(query)\n",
        "\n",
        "# Print the results\n",
        "for document in results:\n",
        "    print(document)"
      ],
      "metadata": {
        "id": "b56ryL4LVAho"
      },
      "execution_count": null,
      "outputs": []
    },
    {
      "cell_type": "code",
      "source": [
        "# Q6\n",
        "The sort() method is used to sort the documents returned by a query in MongoDB. You can specify one or more fields to sort by, and the sorting order (ascending or descending).\n",
        "\n",
        "from pymongo import MongoClient\n",
        "\n",
        "# Connect to MongoDB server\n",
        "client = MongoClient('mongodb://localhost:27017/')\n",
        "db = client['my_database']\n",
        "collection = db['my_collection']\n",
        "\n",
        "# Insert sample data\n",
        "collection.insert_many([\n",
        "    {\"name\": \"Alice\", \"age\": 25},\n",
        "    {\"name\": \"Bob\", \"age\": 30},\n",
        "    {\"name\": \"Carol\", \"age\": 27}\n",
        "])\n",
        "\n",
        "# Query to find all documents and sort by age in ascending order\n",
        "results = collection.find().sort(\"age\", 1)\n",
        "\n",
        "# Print the sorted results\n",
        "for document in results:\n",
        "    print(document)"
      ],
      "metadata": {
        "id": "CWEtT1KtVMYa"
      },
      "execution_count": null,
      "outputs": []
    },
    {
      "cell_type": "code",
      "source": [
        "# Q7\n",
        "delete_one(): Removes a single document that matches the specified filter. It is useful when you want to delete a specific document and only one document matches the filter criteria.\n",
        "\n",
        "delete_many(): Removes multiple documents that match the specified filter. It is used when you need to delete all documents that meet certain criteria.\n",
        "\n",
        "drop(): Deletes an entire collection from the database. This method removes the collection and all its documents, effectively clearing all data from that collection.\n",
        "\n",
        "# EXAMPLE:\n",
        "from pymongo import MongoClient\n",
        "\n",
        "# Connect to MongoDB server\n",
        "client = MongoClient('mongodb://localhost:27017/')\n",
        "db = client['my_database']\n",
        "collection = db['my_collection']\n",
        "\n",
        "# Insert sample data\n",
        "collection.insert_many([\n",
        "    {\"name\": \"Alice\", \"age\": 25},\n",
        "    {\"name\": \"Bob\", \"age\": 30},\n",
        "    {\"name\": \"Carol\", \"age\": 27}\n",
        "])\n",
        "\n",
        "# Delete one document\n",
        "collection.delete_one({\"name\": \"Alice\"})\n",
        "\n",
        "# Delete many documents\n",
        "collection.delete_many({\"age\": {\"$gt\": 26}})\n",
        "\n",
        "# Drop the collection\n",
        "collection.drop()"
      ],
      "metadata": {
        "id": "_44FP_21VQR-"
      },
      "execution_count": null,
      "outputs": []
    }
  ]
}