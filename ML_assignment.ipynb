{
 "cells": [
  {
   "cell_type": "markdown",
   "id": "890a85d0-ca7a-490b-963b-3fb91189a331",
   "metadata": {},
   "source": [
    "## ML ASSIGNMENT (15th March)"
   ]
  },
  {
   "cell_type": "markdown",
   "id": "6015b802-e151-4e1f-835d-c7dd4f9edcaa",
   "metadata": {},
   "source": [
    "#### Q1) Explain the following with an example:\n",
    "#### a)  Artificial Intelligence \n",
    "#### b)  Machine Learning\n",
    "#### c)  Deep Learning"
   ]
  },
  {
   "cell_type": "code",
   "execution_count": null,
   "id": "0cf5809e-c39d-46f1-a8cc-8d5bfc1cee21",
   "metadata": {},
   "outputs": [],
   "source": [
    "a) Artificial Intelligence:\n",
    "    It refers to the technology that enables machines to micic human behaviour. \n",
    "    Examples: \n",
    "        1) Smart cars (self driven cars like Tesla)\n",
    "        2) Autopilots in commercial flights\n",
    "        3) Ridesharing apps (Uber and Lyft)\n",
    "        4) Robots (Sofia)\n",
    "        \n",
    "b) Machine Learning:\n",
    "    It is the subset of Artificial Intelligence (AI) that provides machines the ability to learn automatically and improve from experience. \n",
    "    It uses statistical tools to build a predictive model which can be used to find the solution for a problem statement. \n",
    "    Examples:\n",
    "        1) Movie and product recommendations (Netflix, Amazon)\n",
    "        2) Digital assistants (Amazon’s Alexa and Apple’s Siri)\n",
    "        3) Image and speech recognition\n",
    "        3) Email spam and malware filtering\n",
    "        \n",
    "c) Deep Learning \n",
    "    It is the subset of Machine Learning (ML) that uses multi-layered neural netwroks to learn from vast amonunts of data. \n",
    "    Examples:\n",
    "        1) Chatbots\n",
    "        2) Fraud detection\n",
    "        3) Object detection \n",
    "        4) Caption generation"
   ]
  },
  {
   "cell_type": "markdown",
   "id": "08c15593-6e5c-4292-9926-0d83a44e4eb6",
   "metadata": {},
   "source": [
    "#### Q2) What is supervised learning? List some examples of supervised learning. "
   ]
  },
  {
   "cell_type": "code",
   "execution_count": null,
   "id": "99fdbed7-fb00-4598-ba3f-8017d106bcbb",
   "metadata": {},
   "outputs": [],
   "source": [
    "Supervised learning is a technique in which we teach/train the machines using well-labeled data. \n",
    "This implies that some data (labeled input) is already tagged (mapped) with the correct answer (known output).\n",
    "\n",
    "Problems:\n",
    "    1) Regression \n",
    "    2) Classification \n",
    "    \n",
    "Algorithms:\n",
    "    1) Linear Regression\n",
    "    2) Logistic Regression\n",
    "    3) Naive Bayes Classifiers\n",
    "    4) K-NN (K nearest neighbors)\n",
    "    5) Support Vector Machine\n",
    "    6) Decision Trees\n",
    "    7) Random Forest"
   ]
  },
  {
   "cell_type": "markdown",
   "id": "1abb18f3-6eae-4221-a68d-023b658a1d51",
   "metadata": {},
   "source": [
    "#### Q3) What is unsupervised learning? List some examples of unsupervised learning. "
   ]
  },
  {
   "cell_type": "code",
   "execution_count": null,
   "id": "02f8f8b4-4f19-4ba0-8060-5c9764a296b8",
   "metadata": {},
   "outputs": [],
   "source": [
    "Unsupervised learning is a technique that involves training of a machine using data that is neither classified nor labeled.\n",
    "It allows the algorithm to act on the data without any guidance.\n",
    "\n",
    "Problems: \n",
    "    1) Association \n",
    "    2) Clustering \n",
    "    \n",
    "Algorithms: \n",
    "    1) K-means Clustering\n",
    "    2) Hierarchical Clustering\n",
    "    3) Principle Component Analysis\n",
    "    4) Independent Component Analysis\n",
    "    5) Apriori Algorithm\n",
    "    6) Singular Value Decomposition\n",
    "    7) Anomoly Detection"
   ]
  },
  {
   "cell_type": "markdown",
   "id": "d0b412ec-b7fd-49ba-8a98-e5da4c447582",
   "metadata": {},
   "source": [
    "#### Q4) What is the difference between AI, ML, DL, and DS?"
   ]
  },
  {
   "cell_type": "code",
   "execution_count": null,
   "id": "77df070f-3d7f-46df-9d87-2a8dbdc925d5",
   "metadata": {},
   "outputs": [],
   "source": [
    "1) AI is the broader family consisting of ML and DL as it’s components. ML is the subset of AI, whereas, DL is the subset of ML.\n",
    "\n",
    "2) Types Of AI are: Artificial Narrow Intelligence (ANI), Artificial General Intelligence (AGI) and Artificial Super Intelligence (ASI)\n",
    "   Types Of ML are: Supervised Learning, Unsupervised Learning and Reinforcement Learning\n",
    "   Types of DL are: Convolutional Neural Networks (CNNs), Recursive Neural Networks and Recurrent Neural Networks (RNNs) \n",
    "\n",
    "3) AI is the subset of Data Science. DS deals with data methods, scientific analysis, and statistics, all used to gain insight and meaning from data."
   ]
  },
  {
   "cell_type": "markdown",
   "id": "85d0a226-500a-4198-832f-3e609edd2c80",
   "metadata": {},
   "source": [
    "#### Q5) What are the main differences between supervised, unsupervised and semi-supervised learning?"
   ]
  },
  {
   "cell_type": "code",
   "execution_count": null,
   "id": "f9c5a889-7003-4982-ab54-92870e9bfe07",
   "metadata": {},
   "outputs": [],
   "source": [
    "Supervised learning is a technique in which we teach/train the machines using well-labeled data. \n",
    "Unsupervised learning is a technique that involves training of a machine using data that is neither classified nor labeled.\n",
    "Semi-supervised learning is a technique that consists of partially annotated data, which means that ony some input data is labeled. "
   ]
  },
  {
   "cell_type": "markdown",
   "id": "e343f91e-c034-4bff-a5e4-3c24bbafa05d",
   "metadata": {},
   "source": [
    "#### Q6) What is train, test and validation split? Explain the importance of each term."
   ]
  },
  {
   "cell_type": "code",
   "execution_count": null,
   "id": "0d119fa5-5003-4e69-8a10-6d03fcda7356",
   "metadata": {},
   "outputs": [],
   "source": [
    "For training and testing purposes of our model, we should have our data broken down into three distinct dataset splits:\n",
    "    1) The Training Set\n",
    "       It is the set of data that is used to train and make the model learn the hidden features/patterns in the data.\n",
    "       It should have a diversified set of inputs so that the model is trained in all scenarios and can predict any unseen data sample that may appear in the future.\n",
    "        \n",
    "    2) The Validation Set\n",
    "       It is the set of data, separate from the training set, that is used to validate our model performance during training.\n",
    "       It gives information that helps us tune the model’s hyperparameters and configurations accordingly.\n",
    "       It is like a critic telling us whether the training is moving in the right direction or not.\n",
    "        \n",
    "    3) The Test Set\n",
    "       It is a separate set of data used to test the model after completing the training.\n",
    "       It provides an unbiased final model performance metric in terms of accuracy, precision, etc."
   ]
  },
  {
   "cell_type": "markdown",
   "id": "edd5dd05-9cbd-454c-af88-da69864c1670",
   "metadata": {},
   "source": [
    "#### Q7) How can unsupervised learning be used in anomaly detection?"
   ]
  },
  {
   "cell_type": "code",
   "execution_count": null,
   "id": "14d3e1c2-9ae5-4492-8c21-f2eb13585f22",
   "metadata": {},
   "outputs": [],
   "source": [
    "Anomaly Detection is the technique of identifying rare events or observations which can raise suspicions by being statistically different from the rest of the observations.\n",
    "Such “anomalous” behaviour typically translates to some kind of a problem like a credit card fraud, failing machine in a server, a cyber attack, etc.\n",
    "\n",
    "Unsupervised Anomaly Detection: \n",
    "It involves an unlabeled dataset. It assumes that the majority data points in the unlabeled dataset are “normal” and it looks for data points that differs from the “normal” data points.    "
   ]
  },
  {
   "cell_type": "markdown",
   "id": "801202ff-140e-4ed4-bdd0-69cf8b90e388",
   "metadata": {},
   "source": [
    "#### Q8) List down some commonly used supervised learning algorithms and unsupervised learning algorithms."
   ]
  },
  {
   "cell_type": "code",
   "execution_count": null,
   "id": "67a6e7a7-1e51-4581-9aab-feb5a67d5e31",
   "metadata": {},
   "outputs": [],
   "source": [
    "Algorithms for supervised learning:\n",
    "    1) Linear Regression\n",
    "    2) Logistic Regression\n",
    "    3) Naive Bayes Classifiers\n",
    "    4) K-NN (K nearest neighbors)\n",
    "    5) Support Vector Machine\n",
    "    6) Decision Trees\n",
    "    7) Random Forest\n",
    "\n",
    "Algorithms for unsupervised learning: \n",
    "    1) K-means Clustering\n",
    "    2) Hierarchical Clustering\n",
    "    3) Principle Component Analysis\n",
    "    4) Independent Component Analysis\n",
    "    5) Apriori Algorithm\n",
    "    6) Singular Value Decomposition\n",
    "    7) Anomoly Detection"
   ]
  }
 ],
 "metadata": {
  "kernelspec": {
   "display_name": "Python 3 (ipykernel)",
   "language": "python",
   "name": "python3"
  },
  "language_info": {
   "codemirror_mode": {
    "name": "ipython",
    "version": 3
   },
   "file_extension": ".py",
   "mimetype": "text/x-python",
   "name": "python",
   "nbconvert_exporter": "python",
   "pygments_lexer": "ipython3",
   "version": "3.10.8"
  }
 },
 "nbformat": 4,
 "nbformat_minor": 5
}
