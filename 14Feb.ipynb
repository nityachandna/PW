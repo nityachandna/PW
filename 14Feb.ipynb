{
  "nbformat": 4,
  "nbformat_minor": 0,
  "metadata": {
    "colab": {
      "provenance": [],
      "authorship_tag": "ABX9TyOX4bofbq9cFHCsrEt3YKgq",
      "include_colab_link": true
    },
    "kernelspec": {
      "name": "python3",
      "display_name": "Python 3"
    },
    "language_info": {
      "name": "python"
    }
  },
  "cells": [
    {
      "cell_type": "markdown",
      "metadata": {
        "id": "view-in-github",
        "colab_type": "text"
      },
      "source": [
        "<a href=\"https://colab.research.google.com/github/nityachandna/PW/blob/main/14Feb.ipynb\" target=\"_parent\"><img src=\"https://colab.research.google.com/assets/colab-badge.svg\" alt=\"Open In Colab\"/></a>"
      ]
    },
    {
      "cell_type": "code",
      "execution_count": null,
      "metadata": {
        "id": "jvBvpQumMOgM"
      },
      "outputs": [],
      "source": [
        "# Q1)\n",
        "Multithreading is a concurrency model that allows multiple threads to run simultaneously within a single process.\n",
        "Each thread operates independently, sharing the same memory space but executing different tasks.\n",
        "Used for-\n",
        "Concurrency: Multithreading can improve the efficiency of programs by performing multiple operations concurrently, making better use of CPU resources.\n",
        "Responsiveness: In applications with user interfaces, multithreading can keep the UI responsive while performing background tasks.\n",
        "Parallelism: For tasks that are I/O-bound or involve waiting (like file operations or network requests), multithreading can perform other tasks in parallel, improving performance.\n",
        "Module Used to Handle Threads in Python\n",
        "Python's threading module is used to handle threads. It provides a way to create, manage, and synchronize threads."
      ]
    },
    {
      "cell_type": "code",
      "source": [
        "# Q2)\n",
        "The threading module is used to work with threads in Python due to its simplicity and high-level interface for thread management.\n",
        "It abstracts much of the complexity of thread creation and synchronization, making it easier to write concurrent programs.\n",
        "Functions in the threading Module:\n",
        "activeCount(): Returns the number of Thread objects currently alive. This includes all threads that have been started and have not yet finished.\n",
        "currentThread(): Returns the Thread object corresponding to the caller's thread of control. This is useful for identifying or managing the current thread.\n",
        "enumerate(): Returns a list of all Thread objects currently alive. This is useful for tracking all active threads."
      ],
      "metadata": {
        "id": "PGWkG6cuMlaP"
      },
      "execution_count": null,
      "outputs": []
    },
    {
      "cell_type": "code",
      "source": [
        "# Q3)\n",
        "run(): This method represents the code that the thread will execute. It is meant to be overridden in a subclass of Thread.\n",
        "start(): This method starts the thread's activity. It calls the run() method internally and is used to begin execution of the thread.\n",
        "join(): This method blocks the calling thread until the thread whose join() method is called terminates. It is used to wait for a thread to finish execution.\n",
        "isAlive(): This method returns True if the thread is still alive (i.e., it has been started and has not yet finished executing). It is used to check the status of a thread."
      ],
      "metadata": {
        "id": "QaJC3DVmMzYg"
      },
      "execution_count": null,
      "outputs": []
    },
    {
      "cell_type": "code",
      "source": [
        "# Q4)\n",
        "import threading\n",
        "\n",
        "def print_squares():\n",
        "    squares = [x**2 for x in range(10)]\n",
        "    print(\"Squares:\", squares)\n",
        "\n",
        "def print_cubes():\n",
        "    cubes = [x**3 for x in range(10)]\n",
        "    print(\"Cubes:\", cubes)\n",
        "\n",
        "# Create threads\n",
        "thread1 = threading.Thread(target=print_squares)\n",
        "thread2 = threading.Thread(target=print_cubes)\n",
        "\n",
        "# Start threads\n",
        "thread1.start()\n",
        "thread2.start()\n",
        "\n",
        "# Wait for threads to complete\n",
        "thread1.join()\n",
        "thread2.join()"
      ],
      "metadata": {
        "colab": {
          "base_uri": "https://localhost:8080/"
        },
        "id": "I82egbRNM6FU",
        "outputId": "5810921e-525c-480a-fa20-5a46129c4509"
      },
      "execution_count": 1,
      "outputs": [
        {
          "output_type": "stream",
          "name": "stdout",
          "text": [
            "Squares: [0, 1, 4, 9, 16, 25, 36, 49, 64, 81]\n",
            "Cubes: [0, 1, 8, 27, 64, 125, 216, 343, 512, 729]\n"
          ]
        }
      ]
    },
    {
      "cell_type": "code",
      "source": [
        "# Q5)\n",
        "Advantages\n",
        "Improved Performance: Multithreading can improve the performance of I/O-bound applications by overlapping I/O operations with computation.\n",
        "Responsiveness: Keeps applications responsive, particularly in GUI applications where the main thread can handle user interactions while other threads perform background tasks.\n",
        "Resource Sharing: Threads share the same memory space, which can make data sharing easier and more efficient compared to multiprocessing.\n",
        "\n",
        "Disadvantages\n",
        "Complexity: Writing and debugging multithreaded programs can be complex due to issues related to synchronization and thread safety.\n",
        "GIL (Global Interpreter Lock): In CPython, the Global Interpreter Lock (GIL) can limit the effectiveness of multithreading in CPU-bound tasks, as it allows only one thread to execute Python bytecode at a time.\n",
        "Concurrency Issues: Multithreaded programs can suffer from concurrency issues such as race conditions and deadlocks."
      ],
      "metadata": {
        "id": "nO58vu4yNBay"
      },
      "execution_count": null,
      "outputs": []
    },
    {
      "cell_type": "code",
      "source": [
        "# Q6)\n",
        "Deadlocks\n",
        "A deadlock is a situation where two or more threads are blocked forever, each waiting on the other to release a resource. This typically occurs when two threads hold resources that each other needs to continue execution.\n",
        "\n",
        "Example Scenario:\n",
        "\n",
        "Thread A holds Resource 1 and waits for Resource 2.\n",
        "Thread B holds Resource 2 and waits for Resource 1.\n",
        "In this case, both threads are waiting indefinitely for each other to release resources, causing a deadlock.\n",
        "\n",
        "Race Conditions\n",
        "A race condition occurs when two or more threads access shared resources concurrently, and the outcome depends on the timing of their execution. This can lead to inconsistent or erroneous results.\n",
        "\n",
        "Example Scenario:\n",
        "\n",
        "Two threads update a shared variable x without synchronization.\n",
        "Thread A reads the value of x, increments it, and writes it back.\n",
        "Thread B does the same thing concurrently.\n",
        "If both threads read the same initial value of x and increment it, the final result may not reflect both increments correctly due to the lack of proper synchronization.\n",
        "\n",
        "Prevention:\n",
        "\n",
        "Deadlocks: Use proper locking mechanisms, avoid circular waits, and apply timeout strategies.\n",
        "Race Conditions: Use synchronization primitives like locks, semaphores, and condition variables to ensure that only one thread accesses the shared resource at a time."
      ],
      "metadata": {
        "id": "M-aPhH90NKZd"
      },
      "execution_count": null,
      "outputs": []
    }
  ]
}