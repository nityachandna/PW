{
  "nbformat": 4,
  "nbformat_minor": 0,
  "metadata": {
    "colab": {
      "provenance": [],
      "authorship_tag": "ABX9TyMnTucKvqWaL8X8Tp8FlRMN",
      "include_colab_link": true
    },
    "kernelspec": {
      "name": "python3",
      "display_name": "Python 3"
    },
    "language_info": {
      "name": "python"
    }
  },
  "cells": [
    {
      "cell_type": "markdown",
      "metadata": {
        "id": "view-in-github",
        "colab_type": "text"
      },
      "source": [
        "<a href=\"https://colab.research.google.com/github/nityachandna/PW/blob/main/9Febipynb.ipynb\" target=\"_parent\"><img src=\"https://colab.research.google.com/assets/colab-badge.svg\" alt=\"Open In Colab\"/></a>"
      ]
    },
    {
      "cell_type": "code",
      "execution_count": 1,
      "metadata": {
        "colab": {
          "base_uri": "https://localhost:8080/"
        },
        "id": "PX-JLmzTNaN5",
        "outputId": "8b623ba4-3908-48c0-e5ce-01569a47155c"
      },
      "outputs": [
        {
          "output_type": "stream",
          "name": "stdout",
          "text": [
            "Vehicle Name: Toyota Corolla\n",
            "Max Speed: 180 km/h\n",
            "Average: 15 km/l\n"
          ]
        }
      ],
      "source": [
        "# Q1)\n",
        "class Vehicle:\n",
        "    def __init__(self, name_of_vehicle, max_speed, average_of_vehicle):\n",
        "        self.name_of_vehicle = name_of_vehicle\n",
        "        self.max_speed = max_speed\n",
        "        self.average_of_vehicle = average_of_vehicle\n",
        "\n",
        "    def display_info(self):\n",
        "        print(f\"Vehicle Name: {self.name_of_vehicle}\")\n",
        "        print(f\"Max Speed: {self.max_speed} km/h\")\n",
        "        print(f\"Average: {self.average_of_vehicle} km/l\")\n",
        "\n",
        "car = Vehicle(\"Toyota Corolla\", 180, 15)\n",
        "car.display_info()"
      ]
    },
    {
      "cell_type": "code",
      "source": [
        "# Q2)\n",
        "class Vehicle:\n",
        "    def __init__(self, name_of_vehicle, max_speed, average_of_vehicle):\n",
        "        self.name_of_vehicle = name_of_vehicle\n",
        "        self.max_speed = max_speed\n",
        "        self.average_of_vehicle = average_of_vehicle\n",
        "\n",
        "    def display_info(self):\n",
        "        print(f\"Vehicle Name: {self.name_of_vehicle}\")\n",
        "        print(f\"Max Speed: {self.max_speed} km/h\")\n",
        "        print(f\"Average: {self.average_of_vehicle} km/l\")\n",
        "\n",
        "class Car(Vehicle):\n",
        "    def seating_capacity(self, capacity):\n",
        "        return f\"{self.name_of_vehicle} has a seating capacity of {capacity} people.\"\n",
        "\n",
        "car = Car(\"Toyota Corolla\", 180, 15)\n",
        "print(car.seating_capacity(5))"
      ],
      "metadata": {
        "colab": {
          "base_uri": "https://localhost:8080/"
        },
        "id": "XRtWF4l2NhX5",
        "outputId": "2f8b7867-5252-4fa5-ac6e-785d5b51a462"
      },
      "execution_count": 2,
      "outputs": [
        {
          "output_type": "stream",
          "name": "stdout",
          "text": [
            "Toyota Corolla has a seating capacity of 5 people.\n"
          ]
        }
      ]
    },
    {
      "cell_type": "code",
      "source": [
        "# Q3)\n",
        "Multiple inheritance is a pillar of object-oriented programming languages where a class can inherit attributes and methods from more than one parent class.\n",
        "This allows the derived class to inherit the properties of multiple base classes."
      ],
      "metadata": {
        "id": "xKZlv9QEOACI"
      },
      "execution_count": null,
      "outputs": []
    },
    {
      "cell_type": "code",
      "source": [
        "# Example:\n",
        "# Parent class 1\n",
        "class Parent1:\n",
        "    def method_parent1(self):\n",
        "        return \"This is method from Parent1\"\n",
        "\n",
        "# Parent class 2\n",
        "class Parent2:\n",
        "    def method_parent2(self):\n",
        "        return \"This is method from Parent2\"\n",
        "\n",
        "# Child class inheriting from both Parent1 and Parent2\n",
        "class Child(Parent1, Parent2):\n",
        "    def method_child(self):\n",
        "        return \"This is method from Child\"\n",
        "\n",
        "child_instance = Child()\n",
        "print(child_instance.method_parent1())\n",
        "print(child_instance.method_parent2())\n",
        "print(child_instance.method_child())"
      ],
      "metadata": {
        "colab": {
          "base_uri": "https://localhost:8080/"
        },
        "id": "kPgURsVyOZj5",
        "outputId": "77672639-1b5f-46d8-f018-b4c82b9a2614"
      },
      "execution_count": 3,
      "outputs": [
        {
          "output_type": "stream",
          "name": "stdout",
          "text": [
            "This is method from Parent1\n",
            "This is method from Parent2\n",
            "This is method from Child\n"
          ]
        }
      ]
    },
    {
      "cell_type": "code",
      "source": [
        "# Q4)\n",
        "In Python, getters and setters are methods used to access and modify the attributes of an object.\n",
        "They provide a way to control how these attributes are accessed and updated, often including validation or processing logic."
      ],
      "metadata": {
        "id": "jcbOwpLtOrJO"
      },
      "execution_count": null,
      "outputs": []
    },
    {
      "cell_type": "code",
      "source": [
        "# Example:\n",
        "class Person:\n",
        "    def __init__(self, name, age):\n",
        "        self._name = name\n",
        "        self._age = age\n",
        "\n",
        "    # Getter for name\n",
        "    @property\n",
        "    def name(self):\n",
        "        return self._name\n",
        "\n",
        "    # Setter for name\n",
        "    @name.setter\n",
        "    def name(self, value):\n",
        "        if not value:\n",
        "            raise ValueError(\"Name cannot be empty\")\n",
        "        self._name = value\n",
        "\n",
        "    # Getter for age\n",
        "    @property\n",
        "    def age(self):\n",
        "        return self._age\n",
        "\n",
        "    # Setter for age\n",
        "    @age.setter\n",
        "    def age(self, value):\n",
        "        if value < 0:\n",
        "            raise ValueError(\"Age cannot be negative\")\n",
        "        self._age = value\n",
        "\n",
        "person = Person(\"John Doe\", 30)\n",
        "\n",
        "# Using getter\n",
        "print(person.name)\n",
        "print(person.age)\n",
        "\n",
        "# Using setter\n",
        "person.name = \"Jane Doe\"\n",
        "person.age = 25\n",
        "\n",
        "print(person.name)\n",
        "print(person.age)"
      ],
      "metadata": {
        "colab": {
          "base_uri": "https://localhost:8080/"
        },
        "id": "ZLbG9Ss4PAvs",
        "outputId": "7e4d367c-5158-4d91-c88c-da93f128b6cb"
      },
      "execution_count": 4,
      "outputs": [
        {
          "output_type": "stream",
          "name": "stdout",
          "text": [
            "John Doe\n",
            "30\n",
            "Jane Doe\n",
            "25\n"
          ]
        }
      ]
    },
    {
      "cell_type": "code",
      "source": [
        "# Q5)\n",
        "Method overriding in Python occurs when a subclass provides a specific implementation for a method that is already defined in its superclass.\n",
        "This allows the subclass to modify or extend the behavior of that method."
      ],
      "metadata": {
        "id": "46nBLdXYPKiY"
      },
      "execution_count": null,
      "outputs": []
    },
    {
      "cell_type": "code",
      "source": [
        "# Example:\n",
        "class Animal:\n",
        "    def sound(self):\n",
        "        return \"Some generic animal sound\"\n",
        "\n",
        "class Dog(Animal):\n",
        "    def sound(self):\n",
        "        return \"Bark\"\n",
        "\n",
        "class Cat(Animal):\n",
        "    def sound(self):\n",
        "        return \"Meow\"\n",
        "\n",
        "generic_animal = Animal()\n",
        "dog = Dog()\n",
        "cat = Cat()\n",
        "\n",
        "print(generic_animal.sound())\n",
        "print(dog.sound())\n",
        "print(cat.sound())"
      ],
      "metadata": {
        "colab": {
          "base_uri": "https://localhost:8080/"
        },
        "id": "8nDBUlYUPfct",
        "outputId": "d7b6ea3c-0b5d-4853-f763-fd3b274cbda6"
      },
      "execution_count": 5,
      "outputs": [
        {
          "output_type": "stream",
          "name": "stdout",
          "text": [
            "Some generic animal sound\n",
            "Bark\n",
            "Meow\n"
          ]
        }
      ]
    }
  ]
}