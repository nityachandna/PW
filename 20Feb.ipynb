{
  "nbformat": 4,
  "nbformat_minor": 0,
  "metadata": {
    "colab": {
      "provenance": [],
      "authorship_tag": "ABX9TyPembkFG2rnnknua3DvZVAO",
      "include_colab_link": true
    },
    "kernelspec": {
      "name": "python3",
      "display_name": "Python 3"
    },
    "language_info": {
      "name": "python"
    }
  },
  "cells": [
    {
      "cell_type": "markdown",
      "metadata": {
        "id": "view-in-github",
        "colab_type": "text"
      },
      "source": [
        "<a href=\"https://colab.research.google.com/github/nityachandna/PW/blob/main/20Feb.ipynb\" target=\"_parent\"><img src=\"https://colab.research.google.com/assets/colab-badge.svg\" alt=\"Open In Colab\"/></a>"
      ]
    },
    {
      "cell_type": "code",
      "execution_count": null,
      "metadata": {
        "id": "ixNMfdCEaTX2"
      },
      "outputs": [],
      "source": [
        "# Q1\n",
        "GET and POST are two of the most commonly used HTTP methods for interacting with web servers.\n",
        "\n",
        "GET Method:\n",
        "\n",
        "Purpose: Retrieves data from the server.\n",
        "Characteristics:\n",
        "Appends data to the URL as query parameters (e.g., http://example.com/page?name=John).\n",
        "Typically used for fetching data without side effects.\n",
        "Data is visible in the URL, which can be bookmarked.\n",
        "Limited amount of data can be sent due to URL length restrictions.\n",
        "Generally considered less secure for transmitting sensitive information.\n",
        "\n",
        "POST Method:\n",
        "\n",
        "Purpose: Submits data to be processed by the server.\n",
        "Characteristics:\n",
        "Sends data in the body of the request, not in the URL.\n",
        "Used for creating or updating resources on the server.\n",
        "Data is not visible in the URL, which offers more privacy.\n",
        "No limitations on the amount of data sent.\n",
        "Better suited for sending sensitive information compared to GET.\n",
        "\n",
        "Example Usage:\n",
        "\n",
        "GET: Fetching a list of products from an e-commerce site.\n",
        "POST: Submitting a form to register a new user."
      ]
    },
    {
      "cell_type": "code",
      "source": [
        "# Q2\n",
        "In Flask, the request object is used to handle incoming HTTP requests. It provides access to request data, such as form data, query parameters, and request headers.\n",
        "\n",
        "Usage of request in Flask:\n",
        "Access Form Data: Retrieve data submitted in a POST request via form fields.\n",
        "Access Query Parameters: Retrieve data appended to the URL in a GET request.\n",
        "Access Headers: Read headers sent with the request, such as authentication tokens.\n",
        "Method Type: Check the HTTP method used (GET, POST, etc.).\n",
        "File Uploads: Handle files uploaded in a POST request.\n",
        "\n",
        "# EXAMPLE:\n",
        "from flask import Flask, request\n",
        "\n",
        "app = Flask(__name__)\n",
        "\n",
        "@app.route('/submit', methods=['POST'])\n",
        "def submit():\n",
        "    name = request.form.get('name')  # Access form data\n",
        "    return f'Hello, {name}'\n",
        "\n",
        "if __name__ == '__main__':\n",
        "    app.run(debug=True)"
      ],
      "metadata": {
        "id": "FHwd1Ye1afP9"
      },
      "execution_count": null,
      "outputs": []
    },
    {
      "cell_type": "code",
      "source": [
        "# Q3\n",
        "In Flask, the redirect() function is used to redirect the client to a different URL. It sends an HTTP redirect response to the client, instructing it to make a new request to the specified URL.\n",
        "\n",
        "Usage of redirect():\n",
        "Redirect After Form Submission: Redirect to a different page after processing a form submission to prevent duplicate submissions.\n",
        "URL Changes: Redirect users from outdated or incorrect URLs to updated ones.\n",
        "Conditional Redirects: Redirect based on user authentication or other conditions.\n",
        "\n",
        "# EXAMPLE:\n",
        "from flask import Flask, redirect, url_for\n",
        "\n",
        "app = Flask(__name__)\n",
        "\n",
        "@app.route('/login')\n",
        "def login():\n",
        "    return redirect(url_for('welcome'))\n",
        "\n",
        "@app.route('/welcome')\n",
        "def welcome():\n",
        "    return 'Welcome to the Home Page!'\n",
        "\n",
        "if __name__ == '__main__':\n",
        "    app.run(debug=True)"
      ],
      "metadata": {
        "id": "hs2zcix3an0n"
      },
      "execution_count": null,
      "outputs": []
    },
    {
      "cell_type": "code",
      "source": [
        "# Q4\n",
        "Templates in Flask are HTML files that contain placeholders for dynamic content. Flask uses the Jinja2 templating engine to render these templates, allowing you to generate HTML dynamically.\n",
        "\n",
        "Usage of render_template():\n",
        "Generate Dynamic HTML: Insert data into HTML templates dynamically.\n",
        "Separate Logic from Presentation: Keep the application logic separate from the presentation layer, making the code more modular and maintainable.\n",
        "Reuse Templates: Use the same template for different views by passing different data."
      ],
      "metadata": {
        "id": "B9RmSwX6a4YT"
      },
      "execution_count": null,
      "outputs": []
    },
    {
      "cell_type": "code",
      "source": [
        "# Q5\n",
        "from flask import Flask, jsonify, request\n",
        "\n",
        "app = Flask(__name__)\n",
        "\n",
        "# Example data\n",
        "items = [\n",
        "    {'id': 1, 'name': 'Item 1'},\n",
        "    {'id': 2, 'name': 'Item 2'}\n",
        "]\n",
        "\n",
        "@app.route('/items', methods=['GET'])\n",
        "def get_items():\n",
        "    return jsonify(items)\n",
        "\n",
        "@app.route('/items', methods=['POST'])\n",
        "def add_item():\n",
        "    new_item = request.json\n",
        "    items.append(new_item)\n",
        "    return jsonify(new_item), 201\n",
        "\n",
        "if __name__ == '__main__':\n",
        "    app.run(debug=True)"
      ],
      "metadata": {
        "id": "vNiMQFJFa9yl"
      },
      "execution_count": null,
      "outputs": []
    }
  ]
}