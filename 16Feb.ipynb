{
  "nbformat": 4,
  "nbformat_minor": 0,
  "metadata": {
    "colab": {
      "provenance": [],
      "authorship_tag": "ABX9TyPZmV6+PQnT55CxiX0D4m95",
      "include_colab_link": true
    },
    "kernelspec": {
      "name": "python3",
      "display_name": "Python 3"
    },
    "language_info": {
      "name": "python"
    }
  },
  "cells": [
    {
      "cell_type": "markdown",
      "metadata": {
        "id": "view-in-github",
        "colab_type": "text"
      },
      "source": [
        "<a href=\"https://colab.research.google.com/github/nityachandna/PW/blob/main/16Feb.ipynb\" target=\"_parent\"><img src=\"https://colab.research.google.com/assets/colab-badge.svg\" alt=\"Open In Colab\"/></a>"
      ]
    },
    {
      "cell_type": "code",
      "execution_count": null,
      "metadata": {
        "id": "Km3PWGEAZ_eG"
      },
      "outputs": [],
      "source": [
        "Q1. What is a Database? Differentiate between SQL and NoSQL Databases.\n",
        "Database: A database is an organized collection of structured information or data, typically stored electronically in a computer system.\n",
        "Databases are managed by Database Management Systems (DBMS), which allow for efficient data storage, retrieval, and manipulation.\n",
        "\n",
        "SQL vs. NoSQL Databases:\n",
        "\n",
        "SQL Databases:\n",
        "\n",
        "Structure: Relational databases that use structured query language (SQL) for defining and manipulating data.\n",
        "Schema: Fixed schema (tables with rows and columns) and strong data integrity.\n",
        "ACID Compliance: Supports ACID (Atomicity, Consistency, Isolation, Durability) properties for transactions.\n",
        "Examples: MySQL, PostgreSQL, SQLite, Oracle.\n",
        "Use Case: Suitable for applications requiring complex queries, joins, and transactions, such as financial systems and ERP systems.\n",
        "\n",
        "NoSQL Databases:\n",
        "\n",
        "Structure: Non-relational databases that use various data models like document, key-value, column-family, or graph.\n",
        "Schema: Flexible schema or schema-less, allowing for dynamic changes in data structure.\n",
        "Scalability: Designed for horizontal scaling and handling large volumes of data.\n",
        "Examples: MongoDB, Cassandra, Redis, Neo4j.\n",
        "Use Case: Suitable for applications with large-scale data, unstructured data, or rapid development requirements, such as social networks or real-time analytics."
      ]
    },
    {
      "cell_type": "code",
      "source": [
        "Q2. What is DDL? Explain why CREATE, DROP, ALTER, and TRUNCATE are used with an example.\n",
        "DDL (Data Definition Language): DDL is a subset of SQL used to define and manage database structures, such as tables and schemas.\n",
        "\n",
        "CREATE: Used to create new database objects like tables, indexes, or views.\n",
        "CREATE TABLE Employees (\n",
        "    EmployeeID INT PRIMARY KEY,\n",
        "    Name VARCHAR(100),\n",
        "    Position VARCHAR(50)\n",
        ");\n",
        "\n",
        "DROP: Used to delete database objects such as tables or indexes.\n",
        "DROP TABLE Employees;\n",
        "\n",
        "ALTER: Used to modify existing database objects, such as adding or deleting columns.\n",
        "ALTER TABLE Employees\n",
        "ADD Salary DECIMAL(10, 2);\n",
        "\n",
        "TRUNCATE: Used to remove all rows from a table, but the table structure remains. It is faster than DELETE because it does not log individual row deletions.\n",
        "TRUNCATE TABLE Employees;"
      ],
      "metadata": {
        "id": "vhjWkVOuaM71"
      },
      "execution_count": null,
      "outputs": []
    },
    {
      "cell_type": "code",
      "source": [
        "Q3. What is DML? Explain INSERT, UPDATE, and DELETE with an example.\n",
        "DML (Data Manipulation Language): DML is a subset of SQL used for managing data within existing database objects.\n",
        "\n",
        "INSERT: Used to add new records to a table.\n",
        "INSERT INTO Employees (EmployeeID, Name, Position)\n",
        "VALUES (1, 'John Doe', 'Software Engineer');\n",
        "\n",
        "UPDATE: Used to modify existing records in a table.\n",
        "UPDATE Employees\n",
        "SET Position = 'Senior Software Engineer'\n",
        "WHERE EmployeeID = 1;\n",
        "\n",
        "DELETE: Used to remove existing records from a table.\n",
        "DELETE FROM Employees\n",
        "WHERE EmployeeID = 1;"
      ],
      "metadata": {
        "id": "Mq0WabV4ajn8"
      },
      "execution_count": null,
      "outputs": []
    },
    {
      "cell_type": "code",
      "source": [
        "Q4. What is DQL? Explain SELECT with an example.\n",
        "DQL (Data Query Language): DQL is a subset of SQL used for querying and retrieving data from a database.\n",
        "\n",
        "SELECT: Used to retrieve data from one or more tables.\n",
        "SELECT Name, Position\n",
        "FROM Employees\n",
        "WHERE EmployeeID = 1;\n",
        "\n",
        "The SELECT statement retrieves the Name and Position columns from the Employees table where the EmployeeID is 1."
      ],
      "metadata": {
        "id": "eLY3T7m1azEm"
      },
      "execution_count": null,
      "outputs": []
    },
    {
      "cell_type": "code",
      "source": [
        "Q5. Explain Primary Key and Foreign Key.\n",
        "Primary Key:\n",
        "\n",
        "Definition: A primary key is a unique identifier for a record in a table. It ensures that each record is uniquely identifiable and cannot be NULL.\n",
        "Example: In the Employees table, EmployeeID can be a primary key because it uniquely identifies each employee.\n",
        "Foreign Key:\n",
        "\n",
        "Definition: A foreign key is a column or set of columns in one table that refers to the primary key of another table. It establishes a link between the two tables.\n",
        "Example: In an Orders table, EmployeeID might be a foreign key that references the EmployeeID in the Employees table."
      ],
      "metadata": {
        "id": "T_EkzOyMa7W8"
      },
      "execution_count": null,
      "outputs": []
    },
    {
      "cell_type": "code",
      "source": [
        "Q6. Write a Python code to connect MySQL to Python. Explain the cursor() and execute() method.\n",
        "To connect MySQL to Python, you can use the mysql-connector-python library."
      ],
      "metadata": {
        "id": "xh4q_xslbE6d"
      },
      "execution_count": null,
      "outputs": []
    },
    {
      "cell_type": "code",
      "source": [
        "# Python code:\n",
        "import mysql.connector\n",
        "\n",
        "# Establishing a connection to the database\n",
        "conn = mysql.connector.connect(\n",
        "    host='localhost',\n",
        "    user='root',\n",
        "    password='password',\n",
        "    database='testdb'\n",
        ")\n",
        "\n",
        "# Creating a cursor object\n",
        "cursor = conn.cursor()\n",
        "\n",
        "# Executing a query\n",
        "cursor.execute(\"SELECT * FROM Employees\")\n",
        "\n",
        "# Fetching results\n",
        "for row in cursor.fetchall():\n",
        "    print(row)\n",
        "\n",
        "# Closing the cursor and connection\n",
        "cursor.close()\n",
        "conn.close()"
      ],
      "metadata": {
        "id": "jvpt0eF3bZSS"
      },
      "execution_count": null,
      "outputs": []
    },
    {
      "cell_type": "code",
      "source": [
        "Q7. Give the order of execution of SQL clauses in an SQL query.\n",
        "The typical order of execution of SQL clauses is:\n",
        "\n",
        "FROM: Specifies the tables to retrieve data from.\n",
        "JOIN: Joins tables based on specified conditions.\n",
        "WHERE: Filters records based on conditions.\n",
        "GROUP BY: Groups records that have the same values in specified columns.\n",
        "HAVING: Filters groups based on conditions.\n",
        "SELECT: Specifies the columns to retrieve.\n",
        "ORDER BY: Sorts the result set based on specified columns.\n",
        "LIMIT: Limits the number of rows returned."
      ],
      "metadata": {
        "id": "gzzz9X5jbLBg"
      },
      "execution_count": null,
      "outputs": []
    },
    {
      "cell_type": "code",
      "source": [
        "# Example:\n",
        "SELECT column1, column2\n",
        "FROM table1\n",
        "JOIN table2 ON table1.id = table2.id\n",
        "WHERE condition\n",
        "GROUP BY column1\n",
        "HAVING condition\n",
        "ORDER BY column1\n",
        "LIMIT 10;"
      ],
      "metadata": {
        "id": "f-2C94Cvbb1X"
      },
      "execution_count": null,
      "outputs": []
    }
  ]
}