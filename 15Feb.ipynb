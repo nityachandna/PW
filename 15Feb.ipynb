{
  "nbformat": 4,
  "nbformat_minor": 0,
  "metadata": {
    "colab": {
      "provenance": [],
      "authorship_tag": "ABX9TyOU+AEbQCeOpTjuLOZQ9+vA",
      "include_colab_link": true
    },
    "kernelspec": {
      "name": "python3",
      "display_name": "Python 3"
    },
    "language_info": {
      "name": "python"
    }
  },
  "cells": [
    {
      "cell_type": "markdown",
      "metadata": {
        "id": "view-in-github",
        "colab_type": "text"
      },
      "source": [
        "<a href=\"https://colab.research.google.com/github/nityachandna/PW/blob/main/15Feb.ipynb\" target=\"_parent\"><img src=\"https://colab.research.google.com/assets/colab-badge.svg\" alt=\"Open In Colab\"/></a>"
      ]
    },
    {
      "cell_type": "code",
      "execution_count": null,
      "metadata": {
        "id": "JntRfbvlOBVn"
      },
      "outputs": [],
      "source": [
        "# Q1)\n",
        "Multiprocessing in Python is a technique that allows a program to run multiple processes concurrently, utilizing multiple CPU cores. Each process runs independently and has its own memory space, which avoids issues related to the Global Interpreter Lock (GIL) that affects multithreading in CPython.\n",
        "Usefulness:\n",
        "CPU-Bound Tasks: It is particularly useful for CPU-bound tasks where you need to perform intensive computations. Unlike multithreading, which is limited by the GIL in CPython, multiprocessing can fully utilize multiple CPU cores.\n",
        "Isolation: Each process has its own memory space, which means there is no shared state or memory, reducing the chances of concurrency issues like race conditions.\n",
        "Fault Tolerance: If one process crashes, it does not affect other processes, providing better fault isolation."
      ]
    },
    {
      "cell_type": "code",
      "source": [
        "# Q2)\n",
        "Multiprocessing and threading are both techniques used for achieving concurrency in Python, but they operate in fundamentally different ways and are suited for different types of tasks. Multiprocessing involves running multiple processes simultaneously, where each process operates independently with its own memory space. This approach is particularly advantageous for CPU-bound tasks because it bypasses the Global Interpreter Lock (GIL) in CPython, allowing each process to run on a separate CPU core, thus utilizing multiple cores for computationally intensive tasks. However, this comes with higher overhead due to the cost of process creation and inter-process communication. On the other hand, threading involves running multiple threads within a single process, which share the same memory space. This is ideal for I/O-bound tasks where threads can operate concurrently while waiting for I/O operations to complete. However, in CPython, threads are constrained by the GIL, which only allows one thread to execute Python bytecode at a time, limiting the effectiveness of threading for CPU-bound operations. While threading offers lower overhead and better resource sharing within a process, it can also lead to concurrency issues such as race conditions and requires careful synchronization. In contrast, multiprocessing provides better isolation between tasks but at the cost of increased complexity and resource usage. Each method has its own strengths and is chosen based on the nature of the tasks and the requirements for parallelism or concurrency in a program."
      ],
      "metadata": {
        "id": "vPKWqy_TOJG_"
      },
      "execution_count": null,
      "outputs": []
    },
    {
      "cell_type": "code",
      "source": [
        "# Q3)\n",
        "import multiprocessing\n",
        "\n",
        "def worker():\n",
        "    print(\"Process ID:\", multiprocessing.current_process().pid)\n",
        "\n",
        "if __name__ == \"__main__\":\n",
        "    # Create a new process\n",
        "    process = multiprocessing.Process(target=worker)\n",
        "\n",
        "    # Start the process\n",
        "    process.start()\n",
        "\n",
        "    # Wait for the process to finish\n",
        "    process.join()"
      ],
      "metadata": {
        "colab": {
          "base_uri": "https://localhost:8080/"
        },
        "id": "UgQcbrnMOWn4",
        "outputId": "8b59ec67-158e-4743-a908-10a44782b405"
      },
      "execution_count": 1,
      "outputs": [
        {
          "output_type": "stream",
          "name": "stdout",
          "text": [
            "Process ID: 852\n"
          ]
        }
      ]
    },
    {
      "cell_type": "code",
      "source": [
        "# Q4)\n",
        "A multiprocessing pool in Python is a collection of worker processes that can be used to parallelize the execution of a function across multiple inputs. The pool manages a pool of worker processes and provides methods to distribute tasks among them.\n",
        "\n",
        "Used for:\n",
        "Task Distribution: It allows for distributing tasks across multiple processes, which can improve performance for tasks that can be executed in parallel.\n",
        "Simplification: Provides a higher-level interface for parallel processing, simplifying the management of multiple processes.\n",
        "Load Balancing: The pool can balance the workload among the available worker processes."
      ],
      "metadata": {
        "id": "iZr_gONLOZuu"
      },
      "execution_count": null,
      "outputs": []
    },
    {
      "cell_type": "code",
      "source": [
        "# Q5)\n",
        "# We can create a pool of worker processes using the Pool class from the multiprocessing module.\n",
        "import multiprocessing\n",
        "\n",
        "def square(x):\n",
        "    return x * x\n",
        "\n",
        "if __name__ == \"__main__\":\n",
        "    # Create a pool of 4 worker processes\n",
        "    with multiprocessing.Pool(processes=4) as pool:\n",
        "        # Map a function to a list of inputs\n",
        "        results = pool.map(square, [1, 2, 3, 4, 5])\n",
        "\n",
        "    print(\"Results:\", results)"
      ],
      "metadata": {
        "colab": {
          "base_uri": "https://localhost:8080/"
        },
        "id": "kP1JvBTuOiC-",
        "outputId": "95dfa21f-7c2d-4edc-f5d3-6f531505e11b"
      },
      "execution_count": 3,
      "outputs": [
        {
          "output_type": "stream",
          "name": "stdout",
          "text": [
            "Results: [1, 4, 9, 16, 25]\n"
          ]
        }
      ]
    },
    {
      "cell_type": "code",
      "source": [
        "# Q6)\n",
        "import multiprocessing\n",
        "\n",
        "def print_number(number):\n",
        "    print(f\"Process ID: {multiprocessing.current_process().pid}, Number: {number}\")\n",
        "\n",
        "if __name__ == \"__main__\":\n",
        "    # Numbers to be printed by each process\n",
        "    numbers = [1, 2, 3, 4]\n",
        "\n",
        "    # Create and start a process for each number\n",
        "    processes = []\n",
        "    for number in numbers:\n",
        "        process = multiprocessing.Process(target=print_number, args=(number,))\n",
        "        processes.append(process)\n",
        "        process.start()\n",
        "\n",
        "    # Wait for all processes to finish\n",
        "    for process in processes:\n",
        "        process.join()"
      ],
      "metadata": {
        "colab": {
          "base_uri": "https://localhost:8080/"
        },
        "id": "7bstdYATOoFI",
        "outputId": "59efd511-9860-4660-c5af-662c16a3497a"
      },
      "execution_count": 2,
      "outputs": [
        {
          "output_type": "stream",
          "name": "stdout",
          "text": [
            "Process ID: 1101, Number: 1\n",
            "Process ID: 1104, Number: 2\n",
            "Process ID: 1109, Number: 3\n",
            "Process ID: 1114, Number: 4\n"
          ]
        }
      ]
    }
  ]
}