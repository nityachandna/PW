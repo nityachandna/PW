{
  "nbformat": 4,
  "nbformat_minor": 0,
  "metadata": {
    "colab": {
      "provenance": [],
      "authorship_tag": "ABX9TyOs4GY30bNdp0TSgSFrLK0f",
      "include_colab_link": true
    },
    "kernelspec": {
      "name": "python3",
      "display_name": "Python 3"
    },
    "language_info": {
      "name": "python"
    }
  },
  "cells": [
    {
      "cell_type": "markdown",
      "metadata": {
        "id": "view-in-github",
        "colab_type": "text"
      },
      "source": [
        "<a href=\"https://colab.research.google.com/github/nityachandna/PW/blob/main/TupDict.ipynb\" target=\"_parent\"><img src=\"https://colab.research.google.com/assets/colab-badge.svg\" alt=\"Open In Colab\"/></a>"
      ]
    },
    {
      "cell_type": "code",
      "source": [
        "Q1)\n",
        "\n",
        "A tuple in Python has the following characteristics:\n",
        "\n",
        "Immutable: Once a tuple is created, its elements cannot be changed, added, or removed.\n",
        "Ordered: The elements in a tuple have a defined order, and this order will not change.\n",
        "Indexed: Elements in a tuple can be accessed using their index, with the first element having an index of 0.\n",
        "Allows Duplicate Elements: A tuple can contain multiple instances of the same value.\n",
        "Heterogeneous: A tuple can contain elements of different data types, including integers, strings, and other tuples.\n",
        "Supports Various Operations: Tuples support a variety of operations, including slicing, concatenation, and iteration."
      ],
      "metadata": {
        "id": "L9YPZlfbIMC8"
      },
      "execution_count": null,
      "outputs": []
    },
    {
      "cell_type": "code",
      "source": [
        "Q2)\n",
        "\n",
        "Tuples in Python have only two built-in methods: count() and index().\n",
        "\n",
        "1. count() Method:\n",
        "   - This method returns the number of times a specified value appears in the tuple.\n",
        "\n",
        "   Example:\n",
        "   my_tuple = (1, 2, 3, 2, 4, 2, 5)\n",
        "   count_of_2 = my_tuple.count(2)\n",
        "   print(count_of_2)  # Output: 3\n",
        "\n",
        "\n",
        "2. index() Method:\n",
        "   - This method returns the index of the first occurrence of a specified value in the tuple.\n",
        "\n",
        "   Example:\n",
        "   my_tuple = (1, 2, 3, 4, 5)\n",
        "   index_of_3 = my_tuple.index(3)\n",
        "   print(index_of_3)  # Output: 2\n",
        "\n",
        "\n",
        "Tuples have only two built-in methods compared to lists because of their immutable nature.\n",
        "Since tuples cannot be modified after creation, there is no need for methods that would change their contents, such as `append()`, `extend()`, `remove()`, or `sort()`.\n",
        "The primary purpose of a tuple is to store a collection of items that should not be changed throughout the program.\n",
        "This immutability ensures that tuples are more memory-efficient and can be used as keys in dictionaries and elements of sets."
      ],
      "metadata": {
        "id": "_SuhS4k-Iba8"
      },
      "execution_count": null,
      "outputs": []
    },
    {
      "cell_type": "code",
      "source": [
        "Q3)\n",
        "\n",
        "In Python, the collection datatype that does not allow duplicate items is the set. Sets automatically handle duplicates by storing each unique element only once."
      ],
      "metadata": {
        "id": "DLTtYkmAJhjR"
      },
      "execution_count": null,
      "outputs": []
    },
    {
      "cell_type": "code",
      "source": [
        "List = [1, 1, 1, 2, 1, 3, 1, 4, 2, 1, 2, 2, 2, 3, 2, 4, 3, 1, 3, 2, 3, 3, 3, 4, 4, 1, 4, 2, 4, 3, 4, 4]\n",
        "\n",
        "# Using a set to remove duplicates\n",
        "unique_items = set(List)\n",
        "\n",
        "# Converting the set back to a list\n",
        "unique_list = list(unique_items)\n",
        "\n",
        "# Printing the result\n",
        "print(unique_list)"
      ],
      "metadata": {
        "colab": {
          "base_uri": "https://localhost:8080/"
        },
        "id": "__9IN5rbJ5TP",
        "outputId": "915fbef7-7e5a-4e3a-9c1f-2a66e57bb71c"
      },
      "execution_count": 2,
      "outputs": [
        {
          "output_type": "stream",
          "name": "stdout",
          "text": [
            "[1, 2, 3, 4]\n"
          ]
        }
      ]
    },
    {
      "cell_type": "code",
      "source": [
        "Q4)\n",
        "\n",
        "union() Method:\n",
        "\n",
        "The union() method returns a new set that contains all unique elements from the original set and the specified sets.\n",
        "The original sets remain unchanged.\n",
        "\n",
        "Example:\n",
        "set1 = {1, 2, 3}\n",
        "set2 = {3, 4, 5}\n",
        "\n",
        "union_set = set1.union(set2)\n",
        "print(\"set1:\", set1)          # Output: {1, 2, 3}\n",
        "print(\"set2:\", set2)          # Output: {3, 4, 5}\n",
        "print(\"union_set:\", union_set)  # Output: {1, 2, 3, 4, 5}\n",
        "\n",
        "update() Method:\n",
        "\n",
        "The update() method adds all unique elements from the specified sets to the original set.\n",
        "The original set is modified in place.\n",
        "\n",
        "Example:\n",
        "set1 = {1, 2, 3}\n",
        "set2 = {3, 4, 5}\n",
        "\n",
        "set1.update(set2)\n",
        "print(\"set1 after update:\", set1)  # Output: {1, 2, 3, 4, 5}\n",
        "print(\"set2:\", set2)               # Output: {3, 4, 5}"
      ],
      "metadata": {
        "id": "FMZQes0-KAxX"
      },
      "execution_count": null,
      "outputs": []
    },
    {
      "cell_type": "code",
      "source": [
        "Q5)\n",
        "\n",
        "A dictionary in Python is a collection of key-value pairs, where each key is unique and is used to access the corresponding value.\n",
        "Dctionaries are defined using curly braces {} with key-value pairs separated by colons : and pairs separated by commas.\n",
        "\n",
        "Example:\n",
        "student_info = {\n",
        "    \"name\": \"Aanya Kathuria\",\n",
        "    \"age\": 21,\n",
        "    \"course\": \"Information Technology\",\n",
        "    \"university\": \"George Institute of Technology\"\n",
        "}\n",
        "\n",
        "As of Python 3.7, dictionaries are ordered, meaning they maintain the order of elements as they are added."
      ],
      "metadata": {
        "id": "yZC7uNKVKt6D"
      },
      "execution_count": null,
      "outputs": []
    },
    {
      "cell_type": "code",
      "source": [
        "Q6)\n",
        "\n",
        "Yes, we can create a nested dictionary in Python. A nested dictionary is a dictionary that contains another dictionary as a value.\n",
        "Example:\n",
        "student_data = {\n",
        "    \"student_1\": {\n",
        "        \"name\": \"Aanya Kathuria\",\n",
        "        \"age\": 22,\n",
        "        \"course\": \"Information Technology\",\n",
        "        \"university\": \"George Institute of Technology\"\n",
        "    },\n",
        "    \"student_2\": {\n",
        "        \"name\": \"Rohan Mehta\",\n",
        "        \"age\": 23,\n",
        "        \"course\": \"Computer Science\",\n",
        "        \"university\": \"Delhi Technological University\"\n",
        "    }\n",
        "}"
      ],
      "metadata": {
        "id": "K3LW6Qo6LXUc"
      },
      "execution_count": null,
      "outputs": []
    },
    {
      "cell_type": "code",
      "source": [
        "# Q7)\n",
        "\n",
        "dict1 = {'language': 'Python', 'course': 'Data Science Masters'}\n",
        "\n",
        "dict1.setdefault('topics', ['Python', 'Machine Learning', 'Deep Learning'])\n",
        "\n",
        "print(dict1)"
      ],
      "metadata": {
        "colab": {
          "base_uri": "https://localhost:8080/"
        },
        "id": "Lwjv4A9kLvhZ",
        "outputId": "3f4c7fb0-9534-4828-b633-06ac1093514c"
      },
      "execution_count": 3,
      "outputs": [
        {
          "output_type": "stream",
          "name": "stdout",
          "text": [
            "{'language': 'Python', 'course': 'Data Science Masters', 'topics': ['Python', 'Machine Learning', 'Deep Learning']}\n"
          ]
        }
      ]
    },
    {
      "cell_type": "code",
      "source": [
        "Q8)\n",
        "\n",
        "The three view objects are:\n",
        "\n",
        "Keys View: Shows the keys of the dictionary.\n",
        "Values View: Shows the values of the dictionary.\n",
        "Items View: Shows the key-value pairs of the dictionary."
      ],
      "metadata": {
        "id": "MY6jc4YlL9Jq"
      },
      "execution_count": null,
      "outputs": []
    },
    {
      "cell_type": "code",
      "source": [
        "dict1 = {'Sport': 'Cricket', 'Teams': ['India', 'Australia', 'England', 'South Africa', 'Sri Lanka', 'New Zealand']}\n",
        "\n",
        "# Getting the keys view\n",
        "keys_view = dict1.keys()\n",
        "print(\"Keys view:\", keys_view)\n",
        "\n",
        "# Getting the values view\n",
        "values_view = dict1.values()\n",
        "print(\"Values view:\", values_view)\n",
        "\n",
        "# Getting the items view\n",
        "items_view = dict1.items()\n",
        "print(\"Items view:\", items_view)"
      ],
      "metadata": {
        "colab": {
          "base_uri": "https://localhost:8080/"
        },
        "id": "OKuy-e25MVex",
        "outputId": "f7911b00-2cb4-4a15-e888-c0bc73cf79bd"
      },
      "execution_count": 4,
      "outputs": [
        {
          "output_type": "stream",
          "name": "stdout",
          "text": [
            "Keys view: dict_keys(['Sport', 'Teams'])\n",
            "Values view: dict_values(['Cricket', ['India', 'Australia', 'England', 'South Africa', 'Sri Lanka', 'New Zealand']])\n",
            "Items view: dict_items([('Sport', 'Cricket'), ('Teams', ['India', 'Australia', 'England', 'South Africa', 'Sri Lanka', 'New Zealand'])])\n"
          ]
        }
      ]
    }
  ]
}