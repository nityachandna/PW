{
  "nbformat": 4,
  "nbformat_minor": 0,
  "metadata": {
    "colab": {
      "provenance": [],
      "authorship_tag": "ABX9TyMpFB5I1SlsZSaE7GdDCsrY",
      "include_colab_link": true
    },
    "kernelspec": {
      "name": "python3",
      "display_name": "Python 3"
    },
    "language_info": {
      "name": "python"
    }
  },
  "cells": [
    {
      "cell_type": "markdown",
      "metadata": {
        "id": "view-in-github",
        "colab_type": "text"
      },
      "source": [
        "<a href=\"https://colab.research.google.com/github/nityachandna/PW/blob/main/Untitled2.ipynb\" target=\"_parent\"><img src=\"https://colab.research.google.com/assets/colab-badge.svg\" alt=\"Open In Colab\"/></a>"
      ]
    },
    {
      "cell_type": "code",
      "source": [
        "# Q1)\n",
        "import re\n",
        "\n",
        "def validate_password(password):\n",
        "    # Check if the length of the password is exactly 10 characters\n",
        "    if len(password) != 10:\n",
        "        return \"Invalid Password\"\n",
        "\n",
        "    # Check for at least two uppercase letters\n",
        "    if len(re.findall(r'[A-Z]', password)) < 2:\n",
        "        return \"Invalid Password\"\n",
        "\n",
        "    # Check for at least two lowercase letters\n",
        "    if len(re.findall(r'[a-z]', password)) < 2:\n",
        "        return \"Invalid Password\"\n",
        "\n",
        "    # Check for at least one number\n",
        "    if len(re.findall(r'\\d', password)) < 1:\n",
        "        return \"Invalid Password\"\n",
        "\n",
        "    # Check for at least three special characters\n",
        "    if len(re.findall(r'[!@#$%^&*(),.?\":{}|<>]', password)) < 3:\n",
        "        return \"Invalid Password\"\n",
        "\n",
        "    return \"Valid Password\"\n",
        "\n",
        "# Example\n",
        "password = input(\"Enter your password: \")\n",
        "print(validate_password(password))"
      ],
      "metadata": {
        "colab": {
          "base_uri": "https://localhost:8080/"
        },
        "id": "aEnfyvZEhJ-b",
        "outputId": "20f83256-9ddd-4ab1-e87d-c77d17e7e5e4"
      },
      "execution_count": 5,
      "outputs": [
        {
          "output_type": "stream",
          "name": "stdout",
          "text": [
            "Enter your password: P#W@skil7#\n",
            "Valid Password\n"
          ]
        }
      ]
    },
    {
      "cell_type": "code",
      "source": [
        "# Q2)\n",
        "# 1. Check if the string starts with a particular letter\n",
        "string = \"Hello\"\n",
        "letter = 'H'\n",
        "starts_with = lambda s: s.startswith(letter)\n",
        "print(starts_with(string))"
      ],
      "metadata": {
        "colab": {
          "base_uri": "https://localhost:8080/"
        },
        "id": "s5Na-6bWhnvp",
        "outputId": "a1990992-4620-4b1d-be59-89bf9b2e6a52"
      },
      "execution_count": 6,
      "outputs": [
        {
          "output_type": "stream",
          "name": "stdout",
          "text": [
            "True\n"
          ]
        }
      ]
    },
    {
      "cell_type": "code",
      "source": [
        "# 2. Check if the string is numeric\n",
        "string = \"12345\"\n",
        "is_numeric = lambda s: s.isdigit()\n",
        "print(is_numeric(string))"
      ],
      "metadata": {
        "colab": {
          "base_uri": "https://localhost:8080/"
        },
        "id": "X1dM5ZAdicQh",
        "outputId": "94802af7-9fc0-4b02-d640-65a843dfd30d"
      },
      "execution_count": 7,
      "outputs": [
        {
          "output_type": "stream",
          "name": "stdout",
          "text": [
            "True\n"
          ]
        }
      ]
    },
    {
      "cell_type": "code",
      "source": [
        "# 3. Sort a list of tuples having fruit names and their quantity\n",
        "fruits = [(\"mango\", 99), (\"orange\", 80), (\"grapes\", 1000)]\n",
        "sorted_fruits = sorted(fruits, key=lambda x: x[1])\n",
        "print(sorted_fruits)"
      ],
      "metadata": {
        "colab": {
          "base_uri": "https://localhost:8080/"
        },
        "id": "wZj3IWkCiiUl",
        "outputId": "f6bab160-d220-4460-e6cb-d5d596520a35"
      },
      "execution_count": 8,
      "outputs": [
        {
          "output_type": "stream",
          "name": "stdout",
          "text": [
            "[('orange', 80), ('mango', 99), ('grapes', 1000)]\n"
          ]
        }
      ]
    },
    {
      "cell_type": "code",
      "source": [
        "# 4. Find the squares of numbers from 1 to 10\n",
        "squares = [x**2 for x in range(1, 11)]\n",
        "print(squares)"
      ],
      "metadata": {
        "colab": {
          "base_uri": "https://localhost:8080/"
        },
        "id": "a3CKb0LeiotC",
        "outputId": "f7f65338-a136-456d-9466-98cb92ecc2b7"
      },
      "execution_count": 10,
      "outputs": [
        {
          "output_type": "stream",
          "name": "stdout",
          "text": [
            "[1, 4, 9, 16, 25, 36, 49, 64, 81, 100]\n"
          ]
        }
      ]
    },
    {
      "cell_type": "code",
      "source": [
        "# 5. Find the cube root of numbers from 1 to 10\n",
        "import math\n",
        "cube_roots = [math.pow(x, 1/3) for x in range(1, 11)]\n",
        "print(cube_roots)"
      ],
      "metadata": {
        "colab": {
          "base_uri": "https://localhost:8080/"
        },
        "id": "tvdfT3WgiuhF",
        "outputId": "be8867af-a173-4d8c-e1d8-c9f495c9c61a"
      },
      "execution_count": 11,
      "outputs": [
        {
          "output_type": "stream",
          "name": "stdout",
          "text": [
            "[1.0, 1.2599210498948732, 1.4422495703074083, 1.5874010519681994, 1.7099759466766968, 1.8171205928321397, 1.912931182772389, 2.0, 2.080083823051904, 2.154434690031884]\n"
          ]
        }
      ]
    },
    {
      "cell_type": "code",
      "source": [
        "# 6. Check if a given number is even\n",
        "number = 4\n",
        "is_even = lambda x: x % 2 == 0\n",
        "print(is_even(number))"
      ],
      "metadata": {
        "colab": {
          "base_uri": "https://localhost:8080/"
        },
        "id": "7FAxQYgAi00b",
        "outputId": "d9728b26-d023-423e-8592-b5bf693caa3a"
      },
      "execution_count": 12,
      "outputs": [
        {
          "output_type": "stream",
          "name": "stdout",
          "text": [
            "True\n"
          ]
        }
      ]
    },
    {
      "cell_type": "code",
      "source": [
        "# 7. Filter odd numbers from the given list\n",
        "numbers = [1, 2, 3, 4, 5, 6, 7, 8, 9, 10]\n",
        "odd_numbers = list(filter(lambda x: x % 2 != 0, numbers))\n",
        "print(odd_numbers)"
      ],
      "metadata": {
        "colab": {
          "base_uri": "https://localhost:8080/"
        },
        "id": "ZnQXffY4i7M5",
        "outputId": "d426a7c1-746c-47c2-c192-39ccbf1a3e0b"
      },
      "execution_count": 13,
      "outputs": [
        {
          "output_type": "stream",
          "name": "stdout",
          "text": [
            "[1, 3, 5, 7, 9]\n"
          ]
        }
      ]
    },
    {
      "cell_type": "code",
      "source": [
        "# 8. Sort a list of integers into positive and negative integers lists\n",
        "numbers = [1, 2, 3, 4, 5, 6, -1, -2, -3, -4, -5, 0]\n",
        "positives = [x for x in numbers if x > 0]\n",
        "negatives = [x for x in numbers if x < 0]\n",
        "print(\"Positives:\", positives)\n",
        "print(\"Negatives:\", negatives)"
      ],
      "metadata": {
        "colab": {
          "base_uri": "https://localhost:8080/"
        },
        "id": "RJLPALFhjAOo",
        "outputId": "3b7fe085-b40e-4bd0-8ed3-5b581da06ea2"
      },
      "execution_count": 14,
      "outputs": [
        {
          "output_type": "stream",
          "name": "stdout",
          "text": [
            "Positives: [1, 2, 3, 4, 5, 6]\n",
            "Negatives: [-1, -2, -3, -4, -5]\n"
          ]
        }
      ]
    }
  ]
}