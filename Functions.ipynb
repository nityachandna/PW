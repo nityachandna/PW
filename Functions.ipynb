{
  "nbformat": 4,
  "nbformat_minor": 0,
  "metadata": {
    "colab": {
      "provenance": [],
      "authorship_tag": "ABX9TyPCBDuUoQQU4fz8QfmPJya6",
      "include_colab_link": true
    },
    "kernelspec": {
      "name": "python3",
      "display_name": "Python 3"
    },
    "language_info": {
      "name": "python"
    }
  },
  "cells": [
    {
      "cell_type": "markdown",
      "metadata": {
        "id": "view-in-github",
        "colab_type": "text"
      },
      "source": [
        "<a href=\"https://colab.research.google.com/github/nityachandna/PW/blob/main/Functions.ipynb\" target=\"_parent\"><img src=\"https://colab.research.google.com/assets/colab-badge.svg\" alt=\"Open In Colab\"/></a>"
      ]
    },
    {
      "cell_type": "code",
      "execution_count": null,
      "metadata": {
        "id": "Ol1f_B_XN197"
      },
      "outputs": [],
      "source": [
        "Q1)\n",
        "\n",
        "In Python, the def keyword is used to create a function."
      ]
    },
    {
      "cell_type": "code",
      "source": [
        "# Function to return a list of odd numbers from 1 to 25\n",
        "def odd_numbers():\n",
        "    odd_list = [number for number in range(1, 26) if number % 2 != 0]\n",
        "    return odd_list\n",
        "\n",
        "print(odd_numbers())"
      ],
      "metadata": {
        "colab": {
          "base_uri": "https://localhost:8080/"
        },
        "id": "ZfOAcIyeOHdp",
        "outputId": "c974f43e-dda5-48d0-ea5d-bbef9847074d"
      },
      "execution_count": 1,
      "outputs": [
        {
          "output_type": "stream",
          "name": "stdout",
          "text": [
            "[1, 3, 5, 7, 9, 11, 13, 15, 17, 19, 21, 23, 25]\n"
          ]
        }
      ]
    },
    {
      "cell_type": "code",
      "source": [
        "Q2)\n",
        "\n",
        "In Python, *args and **kwargs are used to allow a function to accept an arbitrary number of arguments.\n",
        "\n",
        "*args is used to pass a variable number of non-keyword arguments to a function.\n",
        "**kwargs is used to pass a variable number of keyword arguments to a function."
      ],
      "metadata": {
        "id": "-qDoFh6bOKAM"
      },
      "execution_count": null,
      "outputs": []
    },
    {
      "cell_type": "code",
      "source": [
        "# Function to demonstrate *args\n",
        "def sum_all(*args):\n",
        "    return sum(args)\n",
        "\n",
        "# Calling the function with different numbers of arguments\n",
        "print(sum_all(1, 2, 3))            # Output: 6\n",
        "print(sum_all(4, 5, 6, 7, 8))      # Output: 30"
      ],
      "metadata": {
        "colab": {
          "base_uri": "https://localhost:8080/"
        },
        "id": "apZAP1iuOZOH",
        "outputId": "19d5ed32-a7ee-4eab-a2a5-953cd9e947f7"
      },
      "execution_count": 2,
      "outputs": [
        {
          "output_type": "stream",
          "name": "stdout",
          "text": [
            "6\n",
            "30\n"
          ]
        }
      ]
    },
    {
      "cell_type": "code",
      "source": [
        "# Function to demonstrate **kwargs\n",
        "def print_student_details(**kwargs):\n",
        "    for key, value in kwargs.items():\n",
        "        print(f\"{key}: {value}\")\n",
        "\n",
        "# Calling the function with different keyword arguments\n",
        "print_student_details(name=\"Aanya Kathuria\", age=22, course=\"Information Technology\")\n",
        "print_student_details(name=\"Rohan Mehta\", age=23, university=\"Delhi Technological University\")"
      ],
      "metadata": {
        "colab": {
          "base_uri": "https://localhost:8080/"
        },
        "id": "EI6gQjp4OfcY",
        "outputId": "45494775-b497-425c-dead-a934687a54ea"
      },
      "execution_count": 4,
      "outputs": [
        {
          "output_type": "stream",
          "name": "stdout",
          "text": [
            "name: Aanya Kathuria\n",
            "age: 22\n",
            "course: Information Technology\n",
            "name: Rohan Mehta\n",
            "age: 23\n",
            "university: Delhi Technological University\n"
          ]
        }
      ]
    },
    {
      "cell_type": "code",
      "source": [
        "Q3)\n",
        "\n",
        "In Python, an iterator is an object that implements the iterator protocol, consisting of two main methods:\n",
        "\n",
        "__iter__(): This method returns the iterator object itself. It is required for the object to be considered an iterator.\n",
        "__next__(): This method returns the next item from the sequence. When there are no more items to return, it raises a StopIteration exception to signal the end of iteration."
      ],
      "metadata": {
        "id": "z49WK4WrOnRT"
      },
      "execution_count": null,
      "outputs": []
    },
    {
      "cell_type": "code",
      "source": [
        "# Given list\n",
        "numbers = [2, 4, 6, 8, 10, 12, 14, 16, 18, 20]\n",
        "\n",
        "# Initialize the iterator object\n",
        "iterator = iter(numbers)\n",
        "\n",
        "# Print the first five elements using the iterator\n",
        "for _ in range(5):\n",
        "    print(next(iterator))"
      ],
      "metadata": {
        "colab": {
          "base_uri": "https://localhost:8080/"
        },
        "id": "0RGff2ifO94z",
        "outputId": "e1f1739b-cf65-4443-f2aa-ba83137bf2c4"
      },
      "execution_count": 5,
      "outputs": [
        {
          "output_type": "stream",
          "name": "stdout",
          "text": [
            "2\n",
            "4\n",
            "6\n",
            "8\n",
            "10\n"
          ]
        }
      ]
    },
    {
      "cell_type": "code",
      "source": [
        "Q4)\n",
        "\n",
        "In Python, a generator function is a special type of function that returns a generator iterator.\n",
        "It is used to produce a sequence of values over time, instead of computing all values at once and sending them back.\n",
        "This is useful for handling large data sets or streams of data efficiently.\n",
        "\n",
        "The yield keyword is used to produce a value from a generator function and pause its execution. The function retains its state and can resume execution when the next value is requested."
      ],
      "metadata": {
        "id": "13s3WInDPBNV"
      },
      "execution_count": null,
      "outputs": []
    },
    {
      "cell_type": "code",
      "source": [
        "# Generator function to yield square numbers\n",
        "def generate_squares(n):\n",
        "    for i in range(n):\n",
        "        yield i ** 2\n",
        "\n",
        "# Using the generator function\n",
        "squares_generator = generate_squares(5)\n",
        "\n",
        "# Iterating through the generator to print values\n",
        "for square in squares_generator:\n",
        "    print(square)"
      ],
      "metadata": {
        "colab": {
          "base_uri": "https://localhost:8080/"
        },
        "id": "OKtPtSWdPcYS",
        "outputId": "5e44725d-3440-452e-f0ce-0c07a5d379ec"
      },
      "execution_count": 6,
      "outputs": [
        {
          "output_type": "stream",
          "name": "stdout",
          "text": [
            "0\n",
            "1\n",
            "4\n",
            "9\n",
            "16\n"
          ]
        }
      ]
    },
    {
      "cell_type": "code",
      "source": [
        "# Q5)\n",
        "def is_prime(num):\n",
        "    \"\"\"Helper function to check if a number is prime.\"\"\"\n",
        "    if num <= 1:\n",
        "        return False\n",
        "    if num <= 3:\n",
        "        return True\n",
        "    if num % 2 == 0 or num % 3 == 0:\n",
        "        return False\n",
        "    i = 5\n",
        "    while i * i <= num:\n",
        "        if num % i == 0 or num % (i + 2) == 0:\n",
        "            return False\n",
        "        i += 6\n",
        "    return True\n",
        "\n",
        "def prime_generator(limit):\n",
        "    \"\"\"Generator function to yield prime numbers less than 'limit'.\"\"\"\n",
        "    num = 2\n",
        "    while num < limit:\n",
        "        if is_prime(num):\n",
        "            yield num\n",
        "        num += 1\n",
        "\n",
        "# Create a generator for prime numbers less than 1000\n",
        "primes = prime_generator(1000)\n",
        "\n",
        "# Print the first 20 prime numbers using next()\n",
        "for _ in range(20):\n",
        "    print(next(primes))"
      ],
      "metadata": {
        "colab": {
          "base_uri": "https://localhost:8080/"
        },
        "id": "RSq5CuAQPd8p",
        "outputId": "9b9a14d4-f9eb-4b0f-c727-0bffc8805757"
      },
      "execution_count": 7,
      "outputs": [
        {
          "output_type": "stream",
          "name": "stdout",
          "text": [
            "2\n",
            "3\n",
            "5\n",
            "7\n",
            "11\n",
            "13\n",
            "17\n",
            "19\n",
            "23\n",
            "29\n",
            "31\n",
            "37\n",
            "41\n",
            "43\n",
            "47\n",
            "53\n",
            "59\n",
            "61\n",
            "67\n",
            "71\n"
          ]
        }
      ]
    }
  ]
}