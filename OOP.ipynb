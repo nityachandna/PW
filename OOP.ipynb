{
  "nbformat": 4,
  "nbformat_minor": 0,
  "metadata": {
    "colab": {
      "provenance": [],
      "authorship_tag": "ABX9TyMcgj/0XU+si/tRAPUXic5O",
      "include_colab_link": true
    },
    "kernelspec": {
      "name": "python3",
      "display_name": "Python 3"
    },
    "language_info": {
      "name": "python"
    }
  },
  "cells": [
    {
      "cell_type": "markdown",
      "metadata": {
        "id": "view-in-github",
        "colab_type": "text"
      },
      "source": [
        "<a href=\"https://colab.research.google.com/github/nityachandna/PW/blob/main/OOP.ipynb\" target=\"_parent\"><img src=\"https://colab.research.google.com/assets/colab-badge.svg\" alt=\"Open In Colab\"/></a>"
      ]
    },
    {
      "cell_type": "code",
      "execution_count": null,
      "metadata": {
        "id": "qA-LQz-gS2CX"
      },
      "outputs": [],
      "source": [
        "Q1)\n",
        "\n",
        "In Object-Oriented Programming (OOP), classes and objects are fundamental concepts that help structure and organize code effectively.\n",
        "\n",
        "Class\n",
        "A class is a blueprint or template for creating objects. It defines a set of attributes and methods that the objects created from the class will have.\n",
        "Classes encapsulate data for the object and methods to manipulate that data. They provide a way to group related data and functions into a single unit.\n",
        "\n",
        "Object\n",
        "An object is an instance of a class. It is a concrete realization of the class, containing actual values for the attributes defined in the class and the ability to use the methods defined in the class.\n",
        "Objects are the instances of classes and represent entities with a state and behavior based on the class definition."
      ]
    },
    {
      "cell_type": "code",
      "source": [
        "# Example:\n",
        "class Car:\n",
        "    def __init__(self, make, model, year):\n",
        "        # Constructor to initialize attributes\n",
        "        self.make = make\n",
        "        self.model = model\n",
        "        self.year = year\n",
        "\n",
        "    def display_info(self):\n",
        "        # Method to display car information\n",
        "        return f\"{self.year} {self.make} {self.model}\"\n",
        "\n",
        "    def start_engine(self):\n",
        "        # Method to simulate starting the car's engine\n",
        "        return \"Engine started\"\n",
        "\n",
        "# Create objects (instances) of the Car class\n",
        "car1 = Car(\"Toyota\", \"Camry\", 2021)\n",
        "car2 = Car(\"Honda\", \"Civic\", 2022)\n",
        "\n",
        "# Use methods on the objects\n",
        "print(car1.display_info())\n",
        "print(car1.start_engine())\n",
        "\n",
        "print(car2.display_info())\n",
        "print(car2.start_engine())"
      ],
      "metadata": {
        "colab": {
          "base_uri": "https://localhost:8080/"
        },
        "id": "OHhxBbBaV48k",
        "outputId": "c43dbb31-45da-4bcd-af0a-e53761558088"
      },
      "execution_count": 1,
      "outputs": [
        {
          "output_type": "stream",
          "name": "stdout",
          "text": [
            "2021 Toyota Camry\n",
            "Engine started\n",
            "2022 Honda Civic\n",
            "Engine started\n"
          ]
        }
      ]
    },
    {
      "cell_type": "code",
      "source": [
        "Q2)\n",
        "\n",
        "The four pillars of Object-Oriented Programming (OOP):\n",
        "\n",
        "1. Encapsulation: Bundling data and methods in a class while hiding internal details. Protects object data and limits access to it.\n",
        "\n",
        "2. Abstraction: Simplifying complex systems by modeling only essential aspects. Hides complex implementation details and exposes only necessary features.\n",
        "\n",
        "3. Inheritance: Mechanism for creating new classes based on existing ones. Reuses code and establishes a hierarchical relationship.\n",
        "\n",
        "4. Polymorphism: Allows different classes to be treated through a common interface. Enables methods to operate differently based on the object type."
      ],
      "metadata": {
        "id": "u2JUXCV7WGPL"
      },
      "execution_count": null,
      "outputs": []
    },
    {
      "cell_type": "code",
      "source": [
        "Q3)\n",
        "\n",
        "The __init__() function in Python is a special method known as a constructor.\n",
        "It is automatically called when a new instance of a class is created.\n",
        "Its primary purpose is to initialize the instance attributes with default or provided values."
      ],
      "metadata": {
        "id": "hgAEI3LsW3Ss"
      },
      "execution_count": null,
      "outputs": []
    },
    {
      "cell_type": "code",
      "source": [
        "# Example\n",
        "# Define a class with __init__() method\n",
        "class Person:\n",
        "    def __init__(self, name, age):\n",
        "        # Initialize the instance attributes\n",
        "        self.name = name\n",
        "        self.age = age\n",
        "\n",
        "    def display_info(self):\n",
        "        # Method to display information about the person\n",
        "        return f\"Name: {self.name}, Age: {self.age}\"\n",
        "\n",
        "# Create instances of the Person class\n",
        "person1 = Person(\"Alice\", 30)\n",
        "person2 = Person(\"Bob\", 25)\n",
        "\n",
        "# Use the display_info method to print details\n",
        "print(person1.display_info())\n",
        "print(person2.display_info())"
      ],
      "metadata": {
        "colab": {
          "base_uri": "https://localhost:8080/"
        },
        "id": "5a_bj7MUXSam",
        "outputId": "08eaf965-19d2-4408-fab9-bc6120c0dd1c"
      },
      "execution_count": 2,
      "outputs": [
        {
          "output_type": "stream",
          "name": "stdout",
          "text": [
            "Name: Alice, Age: 30\n",
            "Name: Bob, Age: 25\n"
          ]
        }
      ]
    },
    {
      "cell_type": "code",
      "source": [
        "Q4)\n",
        "\n",
        "In Object-Oriented Programming (OOP), self is a reference to the current instance of the class. It is used to access attributes and methods associated with the instance.\n",
        "Uses of self:\n",
        "Instance Attribute Access: self allows methods to access and modify attributes that belong to the instance of the class.\n",
        "Method Invocation: It helps differentiate between instance variables and local variables or method parameters.\n",
        "Object Identity: It ensures that methods and attributes operate on the correct object instance."
      ],
      "metadata": {
        "id": "1LffjhxFXbjJ"
      },
      "execution_count": null,
      "outputs": []
    },
    {
      "cell_type": "code",
      "source": [
        "Q5)\n",
        "\n",
        "Types of inheritance:\n",
        "\n",
        "Single Inheritance: A subclass inherits from a single superclass.\n",
        "Multiple Inheritance: A subclass inherits from multiple superclasses.\n",
        "Multilevel Inheritance: A subclass inherits from another subclass, forming a chain of inheritance.\n",
        "Hierarchical Inheritance: Multiple subclasses inherit from a single superclass.\n",
        "Hybrid Inheritance: Combination of multiple types of inheritance."
      ],
      "metadata": {
        "id": "qmrGJKlXXumV"
      },
      "execution_count": null,
      "outputs": []
    },
    {
      "cell_type": "code",
      "source": [
        "# EXAMPLE FOR SINGLE INHERITANCE:\n",
        "class Animal:\n",
        "    def speak(self):\n",
        "        return \"Animal speaks\"\n",
        "class Dog(Animal):\n",
        "    def bark(self):\n",
        "        return \"Dog barks\"\n",
        "my_dog = Dog()\n",
        "print(my_dog.speak())\n",
        "print(my_dog.bark())"
      ],
      "metadata": {
        "colab": {
          "base_uri": "https://localhost:8080/"
        },
        "id": "xBH9ujIoYZxx",
        "outputId": "7b94584f-5f51-4e4c-d30a-48c56902d1d0"
      },
      "execution_count": 3,
      "outputs": [
        {
          "output_type": "stream",
          "name": "stdout",
          "text": [
            "Animal speaks\n",
            "Dog barks\n"
          ]
        }
      ]
    },
    {
      "cell_type": "code",
      "source": [
        "# EXAMPLE FOR MULTIPLE INHERITANCE\n",
        "class Mother:\n",
        "    def cook(self):\n",
        "        return \"Mother cooks\"\n",
        "class Father:\n",
        "    def drive(self):\n",
        "        return \"Father drives\"\n",
        "class Child(Mother, Father):\n",
        "    def play(self):\n",
        "        return \"Child plays\"\n",
        "my_child = Child()\n",
        "print(my_child.cook())\n",
        "print(my_child.drive())\n",
        "print(my_child.play())"
      ],
      "metadata": {
        "colab": {
          "base_uri": "https://localhost:8080/"
        },
        "id": "Fwgbv3miYqZS",
        "outputId": "ba578635-1221-4cc6-b007-6a58e9e6e43b"
      },
      "execution_count": 4,
      "outputs": [
        {
          "output_type": "stream",
          "name": "stdout",
          "text": [
            "Mother cooks\n",
            "Father drives\n",
            "Child plays\n"
          ]
        }
      ]
    },
    {
      "cell_type": "code",
      "source": [
        "# EXAMPLE FOR MULTILEVEL INHERITANCE\n",
        "class Animal:\n",
        "    def eat(self):\n",
        "        return \"Animal eats\"\n",
        "class Mammal(Animal):\n",
        "    def walk(self):\n",
        "        return \"Mammal walks\"\n",
        "class Dog(Mammal):\n",
        "    def bark(self):\n",
        "        return \"Dog barks\"\n",
        "my_dog = Dog()\n",
        "print(my_dog.eat())\n",
        "print(my_dog.walk())\n",
        "print(my_dog.bark())"
      ],
      "metadata": {
        "colab": {
          "base_uri": "https://localhost:8080/"
        },
        "id": "SNJFLM4_ZQIp",
        "outputId": "25d9c4a4-6904-4041-a594-8e4b1ec3a315"
      },
      "execution_count": 5,
      "outputs": [
        {
          "output_type": "stream",
          "name": "stdout",
          "text": [
            "Animal eats\n",
            "Mammal walks\n",
            "Dog barks\n"
          ]
        }
      ]
    },
    {
      "cell_type": "code",
      "source": [
        "# EXAMPLE FOR HIERARCHICAL INHERITANCE\n",
        "class Shape:\n",
        "    def area(self):\n",
        "        return \"Area of shape\"\n",
        "class Circle(Shape):\n",
        "    def area(self, radius):\n",
        "        return 3.14 * radius * radius\n",
        "class Square(Shape):\n",
        "    def area(self, side):\n",
        "        return side * side\n",
        "my_circle = Circle()\n",
        "my_square = Square()\n",
        "print(my_circle.area(5))\n",
        "print(my_square.area(4))"
      ],
      "metadata": {
        "colab": {
          "base_uri": "https://localhost:8080/"
        },
        "id": "ioY6BlrXZpGZ",
        "outputId": "dd0e5568-18bf-462f-f041-e75fa9e49924"
      },
      "execution_count": 6,
      "outputs": [
        {
          "output_type": "stream",
          "name": "stdout",
          "text": [
            "78.5\n",
            "16\n"
          ]
        }
      ]
    },
    {
      "cell_type": "code",
      "source": [
        "# EXAMPLE FOR HYBRID INHERITANCE\n",
        "# Base classes\n",
        "class A:\n",
        "    def method_a(self):\n",
        "        return \"Method A\"\n",
        "\n",
        "class B:\n",
        "    def method_b(self):\n",
        "        return \"Method B\"\n",
        "\n",
        "# Intermediate class\n",
        "class C(A, B):\n",
        "    def method_c(self):\n",
        "        return \"Method C\"\n",
        "\n",
        "# Derived class\n",
        "class D(C):\n",
        "    def method_d(self):\n",
        "        return \"Method D\"\n",
        "\n",
        "# Create an instance of D\n",
        "my_object = D()\n",
        "print(my_object.method_a())\n",
        "print(my_object.method_b())\n",
        "print(my_object.method_c())\n",
        "print(my_object.method_d())"
      ],
      "metadata": {
        "colab": {
          "base_uri": "https://localhost:8080/"
        },
        "id": "xZF1pXsqaAWk",
        "outputId": "dfb7d4d7-6e49-48a2-d899-2224726b217f"
      },
      "execution_count": 7,
      "outputs": [
        {
          "output_type": "stream",
          "name": "stdout",
          "text": [
            "Method A\n",
            "Method B\n",
            "Method C\n",
            "Method D\n"
          ]
        }
      ]
    }
  ]
}