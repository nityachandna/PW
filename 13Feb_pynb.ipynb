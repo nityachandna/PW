{
  "nbformat": 4,
  "nbformat_minor": 0,
  "metadata": {
    "colab": {
      "provenance": [],
      "authorship_tag": "ABX9TyMoIPdK/tHXRIPGb6OGrdq5",
      "include_colab_link": true
    },
    "kernelspec": {
      "name": "python3",
      "display_name": "Python 3"
    },
    "language_info": {
      "name": "python"
    }
  },
  "cells": [
    {
      "cell_type": "markdown",
      "metadata": {
        "id": "view-in-github",
        "colab_type": "text"
      },
      "source": [
        "<a href=\"https://colab.research.google.com/github/nityachandna/PW/blob/main/13Feb_pynb.ipynb\" target=\"_parent\"><img src=\"https://colab.research.google.com/assets/colab-badge.svg\" alt=\"Open In Colab\"/></a>"
      ]
    },
    {
      "cell_type": "code",
      "execution_count": null,
      "metadata": {
        "id": "mmAjxpknWaC3"
      },
      "outputs": [],
      "source": [
        "# Q1)\n",
        "In Python, the Exception class is the base class for all built-in exceptions.\n",
        "When creating a custom exception, you inherit from the Exception class to ensure that your custom exception is compatible with the existing exception handling mechanism.\n",
        "\n",
        "This inheritance provides several benefits:\n",
        "\n",
        "Consistency: Inheriting from Exception ensures that your custom exception behaves like other exceptions, following the same interface and conventions.\n",
        "Interoperability: It allows your custom exception to be used with the standard try, except, finally, and raise constructs.\n",
        "Hierarchy: It allows your custom exception to participate in the exception hierarchy, enabling more specific handling of exceptions."
      ]
    },
    {
      "cell_type": "code",
      "source": [
        "class MyCustomError(Exception):\n",
        "    def __init__(self, message=\"Something went wrong\"):\n",
        "        self.message = message\n",
        "        super().__init__(self.message)"
      ],
      "metadata": {
        "id": "vi0tjc-kWhY5"
      },
      "execution_count": 1,
      "outputs": []
    },
    {
      "cell_type": "code",
      "source": [
        "# Q2)\n",
        "def print_exception_hierarchy(exception_class, level=0):\n",
        "    print(' ' * level + exception_class.__name__)\n",
        "    for base in exception_class.__bases__:\n",
        "        print_exception_hierarchy(base, level + 2)\n",
        "\n",
        "if __name__ == \"__main__\":\n",
        "    import builtins\n",
        "    print_exception_hierarchy(builtins.BaseException)"
      ],
      "metadata": {
        "colab": {
          "base_uri": "https://localhost:8080/"
        },
        "id": "qYWoSkmkWlcZ",
        "outputId": "66502445-94f7-4c1e-fd74-833bef259d75"
      },
      "execution_count": 2,
      "outputs": [
        {
          "output_type": "stream",
          "name": "stdout",
          "text": [
            "BaseException\n",
            "  object\n"
          ]
        }
      ]
    },
    {
      "cell_type": "code",
      "source": [
        "# Q3)\n",
        "The ArithmeticError class is a base class for all built-in exceptions that occur for numeric calculations. Some common errors derived from ArithmeticError are:\n",
        "\n",
        "ZeroDivisionError: Raised when a division by zero is performed.\n",
        "OverflowError: Raised when the result of an arithmetic operation is too large to be represented."
      ],
      "metadata": {
        "id": "tZb1HIAyWsbZ"
      },
      "execution_count": null,
      "outputs": []
    },
    {
      "cell_type": "code",
      "source": [
        "try:\n",
        "    result = 10 / 0\n",
        "except ZeroDivisionError as e:\n",
        "    print(f\"Error: {e}\")"
      ],
      "metadata": {
        "colab": {
          "base_uri": "https://localhost:8080/"
        },
        "id": "nM-70r7SW0-1",
        "outputId": "f39888b2-0ca4-4c41-b1ec-a1bcca9320cd"
      },
      "execution_count": 3,
      "outputs": [
        {
          "output_type": "stream",
          "name": "stdout",
          "text": [
            "Error: division by zero\n"
          ]
        }
      ]
    },
    {
      "cell_type": "code",
      "source": [
        "import math\n",
        "try:\n",
        "    result = math.exp(1000)  # Exponentiation result too large\n",
        "except OverflowError as e:\n",
        "    print(f\"Error: {e}\")"
      ],
      "metadata": {
        "colab": {
          "base_uri": "https://localhost:8080/"
        },
        "id": "tTWiur21W2-m",
        "outputId": "99525877-ef87-486b-a01a-a6fbc161f918"
      },
      "execution_count": 4,
      "outputs": [
        {
          "output_type": "stream",
          "name": "stdout",
          "text": [
            "Error: math range error\n"
          ]
        }
      ]
    },
    {
      "cell_type": "code",
      "source": [
        "# Q4)\n",
        "The LookupError class is a base class for exceptions that occur when a lookup operation (such as indexing or key access) fails.\n",
        "It is used to catch exceptions related to accessing invalid indices or keys in data structures like lists or dictionaries.\n",
        "\n",
        "KeyError: Raised when a dictionary key is not found.\n",
        "IndexError: Raised when an index is out of range for a list."
      ],
      "metadata": {
        "id": "3xQ_oh_-W6z_"
      },
      "execution_count": null,
      "outputs": []
    },
    {
      "cell_type": "code",
      "source": [
        "# Example for Key Error:\n",
        "my_dict = {'a': 1, 'b': 2}\n",
        "try:\n",
        "    value = my_dict['c']\n",
        "except KeyError as e:\n",
        "    print(f\"KeyError: {e}\")"
      ],
      "metadata": {
        "colab": {
          "base_uri": "https://localhost:8080/"
        },
        "id": "n7b6nLiJXVMz",
        "outputId": "9ee1aab8-1833-4286-b242-a1f541af8432"
      },
      "execution_count": 5,
      "outputs": [
        {
          "output_type": "stream",
          "name": "stdout",
          "text": [
            "KeyError: 'c'\n"
          ]
        }
      ]
    },
    {
      "cell_type": "code",
      "source": [
        "# Example for Index Error:\n",
        "my_list = [1, 2, 3]\n",
        "try:\n",
        "    value = my_list[5]\n",
        "except IndexError as e:\n",
        "    print(f\"IndexError: {e}\")"
      ],
      "metadata": {
        "colab": {
          "base_uri": "https://localhost:8080/"
        },
        "id": "n2meXR5kXcZH",
        "outputId": "70c35a3d-b030-469a-a31c-83976789e767"
      },
      "execution_count": 6,
      "outputs": [
        {
          "output_type": "stream",
          "name": "stdout",
          "text": [
            "IndexError: list index out of range\n"
          ]
        }
      ]
    },
    {
      "cell_type": "code",
      "source": [
        "# Q5)\n",
        "ImportError: Raised when an imported module or name cannot be found. This occurs if the module does not exist or if there's an error in importing.\n",
        "ModuleNotFoundError: A subclass of ImportError introduced in Python 3.6, specifically raised when a module cannot be found. It is more specific than ImportError and is used to indicate that the module itself is missing."
      ],
      "metadata": {
        "id": "H254IUSmXijQ"
      },
      "execution_count": null,
      "outputs": []
    },
    {
      "cell_type": "code",
      "source": [
        "# Example for ImportError\n",
        "try:\n",
        "    import non_existent_module\n",
        "except ImportError as e:\n",
        "    print(f\"ImportError: {e}\")"
      ],
      "metadata": {
        "colab": {
          "base_uri": "https://localhost:8080/"
        },
        "id": "sknmpOXIX9P9",
        "outputId": "ff16c576-f0b7-4524-8640-14e8b6b494a5"
      },
      "execution_count": 7,
      "outputs": [
        {
          "output_type": "stream",
          "name": "stdout",
          "text": [
            "ImportError: No module named 'non_existent_module'\n"
          ]
        }
      ]
    },
    {
      "cell_type": "code",
      "source": [
        "# Example for MouduleNotFoundError:\n",
        "try:\n",
        "    import some_non_existent_module\n",
        "except ModuleNotFoundError as e:\n",
        "    print(f\"ModuleNotFoundError: {e}\")"
      ],
      "metadata": {
        "colab": {
          "base_uri": "https://localhost:8080/"
        },
        "id": "XXYM8Op5X_XL",
        "outputId": "407f77ea-1085-4beb-8d1e-5ecb3545e228"
      },
      "execution_count": 8,
      "outputs": [
        {
          "output_type": "stream",
          "name": "stdout",
          "text": [
            "ModuleNotFoundError: No module named 'some_non_existent_module'\n"
          ]
        }
      ]
    },
    {
      "cell_type": "code",
      "source": [
        "# Q6)\n",
        "Best practices for Exception Handling:\n",
        "\n",
        "Catch Specific Exceptions: Always catch specific exceptions rather than a generic Exception to avoid masking other issues.\n",
        "\n",
        "Avoid Using Bare except: Using a bare except can catch unexpected errors and make debugging harder.\n",
        "\n",
        "Use finally for Cleanup: Use the finally block to ensure that resources like files or network connections are properly closed.\n",
        "\n",
        "Log Exceptions: Log exceptions with detailed information rather than just printing them, which helps in diagnosing issues later.\n",
        "\n",
        "Re-raise Exceptions: Re-raise exceptions if you need to handle them at a higher level, using raise without arguments.\n",
        "\n",
        "Use Custom Exceptions: Create custom exceptions to provide more specific error types and improve code clarity."
      ],
      "metadata": {
        "id": "RaeKC0E5YB99"
      },
      "execution_count": null,
      "outputs": []
    }
  ]
}